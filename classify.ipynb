{
 "cells": [
  {
   "cell_type": "code",
   "execution_count": 2,
   "metadata": {},
   "outputs": [
    {
     "name": "stdout",
     "output_type": "stream",
     "text": [
      "DNN_model  README.md  classify.ipynb  fronted  gesture\tinfer.py  utils.py\r\n"
     ]
    }
   ],
   "source": [
    "!ls"
   ]
  },
  {
   "cell_type": "code",
   "execution_count": 3,
   "metadata": {},
   "outputs": [],
   "source": [
    "import paddle\n",
    "import paddle.fluid as fluid\n",
    "import numpy\n",
    "from __future__ import print_function\n",
    "try:\n",
    "    from paddle.fluid.contrib.trainer import *\n",
    "    from paddle.fluid.contrib.inferencer import *\n",
    "except ImportError:\n",
    "    print(\"Import error\")\n",
    "    from paddle.fluid.trainer import *\n",
    "    from paddle.fluid.inferencer import *\n",
    "\n",
    "import numpy as np\n",
    "import paddle\n",
    "import paddle.fluid as fluid\n",
    "import os\n",
    "from PIL import Image, ImageOps\n",
    "import matplotlib\n",
    "matplotlib.use('Agg')\n",
    "%matplotlib inline"
   ]
  },
  {
   "cell_type": "markdown",
   "metadata": {},
   "source": [
    "## 1 - 配置网络结构"
   ]
  },
  {
   "cell_type": "code",
   "execution_count": 4,
   "metadata": {},
   "outputs": [],
   "source": [
    "IMAGE_WIDTH, IMAGE_HEGHT = 64,64"
   ]
  },
  {
   "cell_type": "code",
   "execution_count": 5,
   "metadata": {},
   "outputs": [],
   "source": [
    "def softmax_regression():\n",
    "    \"\"\"\n",
    "    定义softmax分类器：\n",
    "        只通过一层简单的以softmax为激活函数的全连接层，可以得到分类的结果\n",
    "    Args:\n",
    "        img -- 输入的原始图像数据\n",
    "    Return:\n",
    "        predict_image -- 分类的结果\n",
    "    \"\"\"\n",
    "    img = fluid.layers.data(\n",
    "        name='img', shape =[1,IMAGE_WIDTH,IMAGE_HEGHT],dtype = 'float32')\n",
    "    predict = fluid.layers.fc(input=img, size=10, act='softmax')\n",
    "    return predict\n",
    " "
   ]
  },
  {
   "cell_type": "code",
   "execution_count": 6,
   "metadata": {},
   "outputs": [],
   "source": [
    "def multilayer_perceptron():\n",
    "    \"\"\"\n",
    "    定义多层感知机分类器：\n",
    "        含有两个隐藏层（即全连接层）的多层感知器\n",
    "        其中两个隐藏层的激活函数均采用 ReLU，输出层的激活函数用 Softmax\n",
    "    Args:\n",
    "        img -- 输入的原始图像数据\n",
    "    Return:\n",
    "        predict_image -- 分类的结果\n",
    "    \"\"\"\n",
    "    \n",
    "    img = fluid.layers.data(\n",
    "        name='img', shape =[1,IMAGE_WIDTH,IMAGE_HEGHT],dtype = 'float32')\n",
    "    # 第一个全连接层，本层神经元有128个 激活函数为 ReLU \n",
    "    hidden1 = fluid.layers.fc(input=img, size=128, act='relu')\n",
    "    \n",
    "    # 第二个全连接层，本层神经元有64个 激活函数为 ReLU \n",
    "    hidden2 = fluid.layers.fc(input=hidden1, size=64, act='relu')\n",
    "    \n",
    "    # 以 softmax 为激活函数的全连接输出层，输出层的大小必须为 10,对应 0-9 这 10 个数字\n",
    "    predict = fluid.layers.fc(input=hidden2, size=10, act='softmax')\n",
    "    return predict\n"
   ]
  },
  {
   "cell_type": "code",
   "execution_count": 23,
   "metadata": {},
   "outputs": [],
   "source": [
    "\n",
    "def convolutional_neural_network():\n",
    "    \"\"\"\n",
    "    定义卷积神经网络分类器：\n",
    "        输入的二维图像，经过两个卷积-池化层，使用以softmax为激活函数的全连接层作为输出层\n",
    "    Args:\n",
    "        img -- 输入的原始图像数据\n",
    "    Return:\n",
    "        predict -- 分类的结果\n",
    "    \"\"\"\n",
    "    img = fluid.layers.data(\n",
    "        name='img', shape =[1,IMAGE_WIDTH,IMAGE_HEGHT],dtype = 'float32')\n",
    "    # 第一个卷积-池化层\n",
    "    # 基本设置参考： filter 的数量 20\n",
    "    conv_pool1 = fluid.nets.simple_img_conv_pool(input=img, \n",
    "                                             num_filters=20, \n",
    "                                             filter_size=5, \n",
    "                                             pool_size=2, \n",
    "                                             pool_stride=2, \n",
    "                                             pool_padding=0,\n",
    "                                             act='relu')\n",
    "\n",
    "\n",
    "    \n",
    "    # 第二个卷积-池化层\n",
    "    # 基本设置参考： filter 的数量 50\n",
    "    conv_pool2 = fluid.nets.simple_img_conv_pool(input=conv_pool1, \n",
    "                                             num_filters=20, \n",
    "                                             filter_size=5, \n",
    "                                             pool_size=2, \n",
    "                                             pool_stride=2, \n",
    "                                             pool_padding=0,\n",
    "                                             act='relu')\n",
    "    \n",
    "    \n",
    "    \n",
    "    \n",
    "    # 以softmax为激活函数的全连接输出层，输出层的大小必须为10,对应0-9这10个数字\n",
    "    predict = fluid.layers.fc(input=conv_pool2, size=10, act='softmax')\n",
    "    \n",
    "    return predict\n"
   ]
  },
  {
   "cell_type": "markdown",
   "metadata": {},
   "source": [
    "## 2 - 定义数据加载"
   ]
  },
  {
   "cell_type": "code",
   "execution_count": 8,
   "metadata": {},
   "outputs": [],
   "source": [
    "def load_image(filename):\n",
    "    \"\"\"\n",
    "    定义读取输入图片的函数：\n",
    "        读取指定路径下的图片，将其处理成分类网络输入数据对应形式的数据，如数据维度等\n",
    "    Args:\n",
    "        file -- 输入图片的文件路径\n",
    "    Return:\n",
    "        im -- 分类网络输入数据对应形式的数据\n",
    "    \"\"\"\n",
    "    # 可以改进的地方\n",
    "    # 图片增强，旋转，RGB三通道\n",
    "    im = Image.open(filename).convert('L')\n",
    "\n",
    "    im = im.resize((IMAGE_WIDTH,IMAGE_HEGHT), Image.ANTIALIAS)\n",
    "    im = np.array(im).reshape(1, 1, IMAGE_WIDTH,IMAGE_HEGHT).astype(np.float32)\n",
    "    im = im / 255.0 * 2.0 - 1.0\n",
    "    return im\n"
   ]
  },
  {
   "cell_type": "code",
   "execution_count": 9,
   "metadata": {},
   "outputs": [],
   "source": [
    "def train_data_reader():\n",
    "    def reader():\n",
    "        buffer_size = 100\n",
    "        for dirpath, dirnames, filenames in os.walk('./gesture/train/'):\n",
    "#             label = dirpath.split('/')[-1]\n",
    "            for filename in filenames:\n",
    "                if filename[0] == '.':\n",
    "                    continue\n",
    "                label = filename.split('.')[-2][-1]\n",
    "                images = load_image(os.path.join(dirpath, filename))\n",
    "                yield images, int(label)\n",
    "#                 for img in images:\n",
    "#                     yield img,int(label)\n",
    "    return reader"
   ]
  },
  {
   "cell_type": "code",
   "execution_count": 10,
   "metadata": {},
   "outputs": [],
   "source": [
    "def test_data_reader():\n",
    "    def reader():\n",
    "        buffer_size = 100\n",
    "        for dirpath, dirnames, filenames in os.walk('./gesture/test/'):\n",
    "            label = dirpath.split('/')[-1]\n",
    "            for filename in filenames:\n",
    "                if filename[0] == '.':\n",
    "                    continue\n",
    "                images = load_image(os.path.join(dirpath, filename))\n",
    "                yield images, int(label)\n",
    "#                 for i in range(buffer_size):\n",
    "#                     yield images[i, :], int(label)\n",
    "    return reader"
   ]
  },
  {
   "cell_type": "markdown",
   "metadata": {},
   "source": [
    "\n",
    "## 3 - 训练过程\n",
    "\n",
    "在构建完成分类器后，接下来进入模型的训练过程，一般步骤如下：\n",
    "\n",
    "- 设置训练场所\n",
    "- 配置网络结构和优化方法\n",
    "    - 配置网络结构\n",
    "    - 定义损失函数 cost\n",
    "    - 定义优化器 optimizer\n",
    "- 训练准备\n",
    "    - 定义输入数据与网络的映射关系\n",
    "    - 定义文件路径\n",
    "    - 事件处理函数\n",
    "    - 定义执行器\n",
    "        - 初始化网络参数\n",
    "- 模型训练\n",
    "    - 定义 reader\n",
    "    - 定义 trainer \n",
    "    - 开始训练"
   ]
  },
  {
   "cell_type": "markdown",
   "metadata": {},
   "source": [
    "\n",
    "### ** （1）设置训练场所 **\n",
    "\n",
    "首先进行设置训练使用的设备。在复杂量较低的时候使用 CPU 就可以完成任务，但是对于大规模计算就需要使用 GPU 训练。目前 GPU 训练都是基于 CUDA 工具之上的。\n",
    "- use_cuda=False 表示不使用 GPU 进行训练"
   ]
  },
  {
   "cell_type": "code",
   "execution_count": 11,
   "metadata": {},
   "outputs": [],
   "source": [
    "# 设置训练场所\n",
    "use_cuda = False\n",
    "# use_cuda = True\n",
    "place = fluid.CUDAPlace(1) if use_cuda else fluid.CPUPlace()"
   ]
  },
  {
   "cell_type": "markdown",
   "metadata": {},
   "source": [
    "### ** （2）配置网络结构和优化方法 **\n",
    "这一阶段，我们关注的是网络拓扑结构的配置和优化方法的配置\n",
    "\n",
    "** 网络结构 **  \n",
    "接下来需要配置分类网络的结构，首先通过 layers.data 配置数据输入层，然后配置分类器（代码中提供了三个不同的分类器，每次使用选择其中一个，注释掉其余两个即可）。例如下方代码中选用的是卷积神经网络分类器。  \n",
    "然后设置损失函数，对于分类问题常常选择交叉熵损失函数。  \n"
   ]
  },
  {
   "cell_type": "code",
   "execution_count": 12,
   "metadata": {},
   "outputs": [],
   "source": [
    "def train_func():\n",
    "    \"\"\"\n",
    "    配置网络结构\n",
    "    Args:\n",
    "    Return:\n",
    "        label -- 标签数据\n",
    "        predict -- 输出层\n",
    "        cost -- 损失函数\n",
    "        optimizer -- 优化器\n",
    "    \"\"\"\n",
    "    \"\"\"\n",
    "    标签层:\n",
    "        name=’label’：名称为label,对应输入图片的类别标签\n",
    "    \"\"\"\n",
    "    label = fluid.layers.data(name='label', shape = [1],dtype = 'int64')\n",
    "\n",
    "\n",
    "    \"\"\" \n",
    "    选择分类器：\n",
    "        在此之前已经定义了3种不同的分类器，在下面的代码中,\n",
    "        我们可以通过保留某种方法的调用语句、注释掉其余两种，以选择特定的分类器\n",
    "    \"\"\"\n",
    "#     predict = softmax_regression()\n",
    "#     predict = multilayer_perceptron()\n",
    "    predict = convolutional_neural_network()\n",
    "\n",
    "    # 损失函数，cross_entropy 函数内部使用交叉熵损失函数\n",
    "    cost = fluid.layers.cross_entropy(input=predict, label=label)\n",
    "    avg_cost = fluid.layers.mean(cost)\n",
    "    return avg_cost\n",
    "\n"
   ]
  },
  {
   "cell_type": "markdown",
   "metadata": {},
   "source": [
    "** optimizer **  \n",
    "\n",
    "1. 创建优化器 \n",
    "这里可以尝试采用 Momentum 或 Adam 优化器。 \n",
    "\n",
    "2. 使用优化器  \n",
    "- 训练过程在更新权重时采用动量优化器 `Momentum` ，Momentum是为了让目标函数沿梯度方向快速收敛的一种加速学习方法，其中参数 0.9 代表动量优化每次保持前一次速度的 0.9 倍。\n",
    "- 训练速度（learning_rate）： 迭代的速度，与网络的训练收敛速度有关系。\n",
    "\n",
    "\n",
    "** 练习： **\n",
    "1. 创建Adam优化器并且设置参数值：learning_rate=0.2, beta1=0.9, beta2=0.999 和 epsilon=1e-08\n",
    "\n",
    "> **API解释**  \n",
    "> **动量** 通常写法：optimizer = fluid.optimizer.Momentum(learning_rate= 0.1 , momentum= 0.9)  \n",
    ">API 参考地址：http://www.paddlepaddle.org/docs/0.14.0/api/fluid/en/optimizer.html#permalink-9-momentumoptimizer\n",
    "\n",
    "** \\*\\*特别的\\*\\* **  \n",
    "由于本例使用 trainer 的写法，所以需要将优化器包装到函数中方便后面使用。  \n"
   ]
  },
  {
   "cell_type": "code",
   "execution_count": 13,
   "metadata": {},
   "outputs": [],
   "source": [
    "def optimizer_func():\n",
    "    # 创建优化器optimizer，下面列举了2种常用的优化器，不同类型优化器选一即可\n",
    "    # 创建Momentum优化器，并设置学习率(learning_rate)、动量(momentum)\n",
    "    ### 练习代码开始处 ### （1-3行代码）\n",
    "    optimizer = fluid.optimizer.Momentum(learning_rate=0.1 , momentum=0.9)\n",
    "#     optimizer = fluid.optimizer.SGDOptimizer(learning_rate=1e-3)\n",
    "#     optimizer = fluid.optimizer.Adagrad(learning_rate=1e-2)\n",
    "    ### 练习代码结束处 ###\n",
    "    \n",
    "    return optimizer"
   ]
  },
  {
   "cell_type": "markdown",
   "metadata": {},
   "source": [
    "### ** （3）训练准备 **\n",
    "这个阶段我们关注的是小的相关内容的配置。  \n",
    "** 定义映射 **  \n",
    "输入网络的数据要与网络本身应该接受的数据相匹配。在 fluid 中使用 feed_order 的概念来保证输入的数据与网络接受的数据的顺序是一致的。本示例中使用 feed_order = ['x', 'label'] 来告知网络，输入的数据是分为两部分，第一部分是 x 值，第二部分是 label 值。"
   ]
  },
  {
   "cell_type": "code",
   "execution_count": 14,
   "metadata": {},
   "outputs": [],
   "source": [
    "feed_order = ['img', 'label'] "
   ]
  },
  {
   "cell_type": "markdown",
   "metadata": {},
   "source": [
    "** 定义文件路径 **  \n",
    "\n",
    "在 fluid 中，默认模型的相关数据是需要保存在硬盘上的。也就是说在训练阶段会将训练好的模型保存在硬盘上，在将预测阶段可以直接 load 磁盘上的模型数据，进而做出预测。"
   ]
  },
  {
   "cell_type": "code",
   "execution_count": 15,
   "metadata": {},
   "outputs": [],
   "source": [
    "params_dirname = \"./DNN_model\""
   ]
  },
  {
   "cell_type": "markdown",
   "metadata": {},
   "source": [
    "** 定义事件处理函数 **  \n",
    "在 fluid 中，如果是用 trainer 的方式来训练的话，那么，在训练的时候允许开发者自己定义事件回调函数。目前接受的事件有 BeginEpochEvent、EndEpochEvent、BeginStepEvent、EndStepEvent。\n",
    " 用于输出训练过程中 cost 的变化。"
   ]
  },
  {
   "cell_type": "code",
   "execution_count": 16,
   "metadata": {},
   "outputs": [],
   "source": [
    "\n",
    "# Plot data\n",
    "from paddle.v2.plot import Ploter\n",
    "train_title = \"Train cost\"\n",
    "test_title = \"Test cost\"\n",
    "plot_cost = Ploter(train_title, test_title)\n",
    "\n",
    "step = 0\n",
    "# 事件处理\n",
    "def event_handler_plot(event):\n",
    "    global step\n",
    "    if isinstance(event, EndStepEvent):\n",
    "        if event.step % 2 == 0: # 若干个batch,记录cost\n",
    "            if event.metrics[0] < 10:\n",
    "                plot_cost.append(train_title, step, event.metrics[0])\n",
    "                plot_cost.plot()\n",
    "        if event.step % 20 == 0: # 若干个batch,记录cost\n",
    "            test_metrics = trainer.test(\n",
    "            reader=test_reader, feed_order=feed_order)\n",
    "            if test_metrics[0] < 10:\n",
    "                plot_cost.append(test_title, step, test_metrics[0])\n",
    "                plot_cost.plot()\n",
    "\n",
    "#             if test_metrics[0] < 1.0:\n",
    "#                 # 如果准确率达到阈值，则停止训练\n",
    "#                 print('loss is less than 10.0, stop')\n",
    "#                 trainer.stop()\n",
    "\n",
    "        # 将参数存储，用于预测使用\n",
    "        if params_dirname is not None:\n",
    "            trainer.save_params(params_dirname)\n",
    "    step += 1"
   ]
  },
  {
   "cell_type": "markdown",
   "metadata": {},
   "source": [
    "** 定义执行器 **   \n",
    "为了能够运行开发者定义的网络拓扑结构和优化器，需要定义执行器。由执行器来真正的执行参数的初始化和网络的训练过程。"
   ]
  },
  {
   "cell_type": "code",
   "execution_count": 17,
   "metadata": {},
   "outputs": [
    {
     "data": {
      "text/plain": [
       "[]"
      ]
     },
     "execution_count": 17,
     "metadata": {},
     "output_type": "execute_result"
    }
   ],
   "source": [
    "# 创建执行器，palce在程序初始化时设定\n",
    "exe = fluid.Executor(place)\n",
    "# 初始化执行器\n",
    "exe.run( fluid.default_startup_program() )"
   ]
  },
  {
   "cell_type": "markdown",
   "metadata": {},
   "source": [
    "### （4）** 模型训练 **\n",
    "\n",
    "** 定义reader **   \n",
    "网络接受的数据实际上是一个又一个的 mini-batch 。 paddle 框架为开发者准备好了 paddle.batch 函数来提供一个又一个 mini-batch。在实际输入数据的时候，我们希望的是数据顺序不要影响网络是训练，paddle 框架也准备了 paddle.reader.shuffle 函数来打乱输入的顺序。 \n",
    "\n",
    "** 练习： **\n",
    "设置 BATCH_SIZE 为 10 \n",
    "> BATCH_SIZE 的大小决定了 每个 mini-batch 中灌入的数据的数量"
   ]
  },
  {
   "cell_type": "code",
   "execution_count": 18,
   "metadata": {},
   "outputs": [],
   "source": [
    "# 设置 BATCH_SIZE 的大小\n",
    "### 练习代码开始处 ### (1行代码) \n",
    "BATCH_SIZE = 128\n",
    "### 练习代码结束处 ###\n",
    "\n",
    "# 设置训练reader\n",
    "train_reader = paddle.batch(\n",
    "    paddle.reader.shuffle(\n",
    "        train_data_reader(), \n",
    "        buf_size=500),\n",
    "    batch_size=BATCH_SIZE)\n",
    "\n",
    "#设置测试 reader\n",
    "test_reader = paddle.batch(\n",
    "    paddle.reader.shuffle(\n",
    "        test_data_reader(), \n",
    "        buf_size=500),\n",
    "    batch_size=BATCH_SIZE)"
   ]
  },
  {
   "cell_type": "markdown",
   "metadata": {},
   "source": [
    "** 定义trainer **   \n",
    "trainer 负责收集训练需要的相关信息。定义 trainer 时需要提供 3个重要信息：\n",
    "1. 网络拓扑结构，通过参数 train_func 设定\n",
    "2. 真实训练的设备，通过参数 place 设定\n",
    "3. 优化方法，通过参数 optimizer_func 设定"
   ]
  },
  {
   "cell_type": "code",
   "execution_count": 19,
   "metadata": {},
   "outputs": [],
   "source": [
    "#创建训练器\n",
    "trainer = Trainer(\n",
    "    train_func= train_func,\n",
    "    place= place,\n",
    "    optimizer_func= optimizer_func)\n"
   ]
  },
  {
   "cell_type": "markdown",
   "metadata": {},
   "source": [
    "** 开始训练 **  \n",
    "在做好了所有的准备工作之后，就开始开始训练了。由于本例使用的是 trainer 的方法，所以可以直接调用 trainer 的 train 方法来执行训练。train 方法主要需要设置3个参数： reader、num_epochs 和 feeder_order。\n",
    "其中，  \n",
    ">reader 表示能够持续提供 mini-batch 的数据源  \n",
    ">num_epochs 表示所有的数据将要训练多少轮次（就是一个数字）  \n",
    ">feeder_order 表示数据的顺序。\n",
    "\n",
    "我们注意到，reader 和 feeder_order 在前面的准备过程中已经准备好了。 除了这三个参数外，train 还接受一个 event_handler 参数。这个参数允许开发者自己定义回调函数，用以在训练过程中打印训练相关的信息，甚至在合适的时候停止训练。  \n",
    "函数的形式如下：\n",
    "```\n",
    "trainer.train(\n",
    "    reader= ,\n",
    "    num_epochs= ,\n",
    "    event_handler= ,\n",
    "    feed_order= )\n",
    "```\n",
    "** 练习： **\n",
    "1. 编写 train 函数\n",
    "2. 将 num_epochs 设置为 3"
   ]
  },
  {
   "cell_type": "code",
   "execution_count": 20,
   "metadata": {},
   "outputs": [
    {
     "data": {
      "image/png": "[encoded data removed]",
      "text/plain": [
       "<Figure size 432x288 with 1 Axes>"
      ]
     },
     "metadata": {},
     "output_type": "display_data"
    },
    {
     "data": {
      "text/plain": [
       "<Figure size 432x288 with 0 Axes>"
      ]
     },
     "metadata": {},
     "output_type": "display_data"
    }
   ],
   "source": [
    "trainer.train(\n",
    "    reader=train_reader,\n",
    "    num_epochs=20,\n",
    "    event_handler=event_handler_plot,\n",
    "    feed_order=feed_order)\n"
   ]
  },
  {
   "cell_type": "code",
   "execution_count": 22,
   "metadata": {
    "scrolled": true
   },
   "outputs": [
    {
     "name": "stdout",
     "output_type": "stream",
     "text": [
      "/paddle_train/GestureRecognition\n",
      "total_acc: 0.166667\n"
     ]
    }
   ],
   "source": [
    "\n",
    "# 读取并预处理要预测的图片\n",
    "cur_dir = os.getcwd()\n",
    "print(cur_dir)\n",
    "# img = load_image(cur_dir + '/gesture/test/4/21.jpg')\n",
    "# 设置训练场所\n",
    "use_cuda = False\n",
    "# use_cuda = True\n",
    "place = fluid.CUDAPlace(1) if use_cuda else fluid.CPUPlace()\n",
    "\n",
    "inferencer = Inferencer(\n",
    "#     infer_func=softmax_regression, # uncomment for softmax regression\n",
    "#     infer_func=multilayer_perceptron, # uncomment for MLP\n",
    "    infer_func=convolutional_neural_network,  # uncomment for LeNet5\n",
    "    param_path=params_dirname,\n",
    "    place=place )\n",
    "y_test = []\n",
    "y_pred = []\n",
    "test_reader = test_data_reader()\n",
    "total_count = 0\n",
    "total_acc = 0.0\n",
    "for img, label in test_reader():\n",
    "    y_test.append(label)\n",
    "    results = inferencer.infer({'img': img})\n",
    "    lab = np.argsort(results)\n",
    "    y_pred.append(lab[0][0][-1])\n",
    "    total_count += 1\n",
    "    if label == lab[0][0][-1]:\n",
    "        total_acc += 1\n",
    "print(\"total_acc: %f\" % (total_acc / total_count))\n",
    "# print(lab)\n",
    "# print(\"Label of image/infer_3.png is: %d\" % lab[0][0][-1])\n",
    "# print(np.mean(y_test==y_pred))\n"
   ]
  },
  {
   "cell_type": "markdown",
   "metadata": {},
   "source": [
    "\n",
    "## 7 - 总结\n",
    "\n",
    "通过这个练习我们应该记住：\n",
    "\n",
    "1. 基于Softmax回归、多层感知器、卷积神经网络构建分类器的操作\n",
    "\n",
    "2. 如何利用PaddlePaddle的API接口对图片进行特征提取和分类\n",
    "\n",
    "\n",
    "本教程的softmax回归、多层感知器和卷积神经网络是最基础的深度学习模型，后续章节中复杂的神经网络都是从它们衍生出来的，因此这几个模型对之后的学习大有裨益。同时，我们也观察到从最简单的softmax回归变换到稍复杂的卷积神经网络的时候，MNIST数据集上的识别准确率有了大幅度的提升，原因是卷积层具有局部连接和共享权重的特性。在之后学习新模型的时候，希望大家也要深入到新模型相比原模型带来效果提升的关键之处。作为扩展，大家可以用自己的数据，定义自己的网络模型，并完成自己的训练和预测任务。\n"
   ]
  },
  {
   "cell_type": "markdown",
   "metadata": {},
   "source": [
    "## 参考文献\n",
    "\n",
    "1. LeCun, Yann, Léon Bottou, Yoshua Bengio, and Patrick Haffner. [\"Gradient-based learning applied to document recognition.\"](http://ieeexplore.ieee.org/abstract/document/726791/) Proceedings of the IEEE 86, no. 11 (1998): 2278-2324.\n",
    "2. Wejéus, Samuel. [\"A Neural Network Approach to Arbitrary SymbolRecognition on Modern Smartphones.\"](http://www.diva-portal.org/smash/record.jsf?pid=diva2%3A753279&dswid=-434) (2014).\n",
    "3. Decoste, Dennis, and Bernhard Schölkopf. [\"Training invariant support vector machines.\"](http://link.springer.com/article/10.1023/A:1012454411458) Machine learning 46, no. 1-3 (2002): 161-190.\n",
    "4. Simard, Patrice Y., David Steinkraus, and John C. Platt. [\"Best Practices for Convolutional Neural Networks Applied to Visual Document Analysis.\"](http://citeseerx.ist.psu.edu/viewdoc/download?doi=10.1.1.160.8494&rep=rep1&type=pdf) In ICDAR, vol. 3, pp. 958-962. 2003.\n",
    "5. Salakhutdinov, Ruslan, and Geoffrey E. Hinton. [\"Learning a Nonlinear Embedding by Preserving Class Neighbourhood Structure.\"](http://www.jmlr.org/proceedings/papers/v2/salakhutdinov07a/salakhutdinov07a.pdf) In AISTATS, vol. 11. 2007.\n",
    "6. Cireşan, Dan Claudiu, Ueli Meier, Luca Maria Gambardella, and Jürgen Schmidhuber. [\"Deep, big, simple neural nets for handwritten digit recognition.\"](http://www.mitpressjournals.org/doi/abs/10.1162/NECO_a_00052) Neural computation 22, no. 12 (2010): 3207-3220.\n",
    "7. Deng, Li, Michael L. Seltzer, Dong Yu, Alex Acero, Abdel-rahman Mohamed, and Geoffrey E. Hinton. [\"Binary coding of speech spectrograms using a deep auto-encoder.\"](http://citeseerx.ist.psu.edu/viewdoc/download?doi=10.1.1.185.1908&rep=rep1&type=pdf) In Interspeech, pp. 1692-1695. 2010.\n",
    "8. Kégl, Balázs, and Róbert Busa-Fekete. [\"Boosting products of base classifiers.\"](http://dl.acm.org/citation.cfm?id=1553439) In Proceedings of the 26th Annual International Conference on Machine Learning, pp. 497-504. ACM, 2009.\n",
    "9. Rosenblatt, Frank. [\"The perceptron: A probabilistic model for information storage and organization in the brain.\"](http://psycnet.apa.org/journals/rev/65/6/386/) Psychological review 65, no. 6 (1958): 386.\n",
    "10. Bishop, Christopher M. [\"Pattern recognition.\"](http://users.isr.ist.utl.pt/~wurmd/Livros/school/Bishop%20-%20Pattern%20Recognition%20And%20Machine%20Learning%20-%20Springer%20%202006.pdf) Machine Learning 128 (2006): 1-58.\n",
    "11. http://ufldl.stanford.edu/tutorial/supervised/OptimizationStochasticGradientDescent/\n"
   ]
  }
 ],
 "metadata": {
  "kernelspec": {
   "display_name": "Python 2",
   "language": "python",
   "name": "python2"
  },
  "language_info": {
   "codemirror_mode": {
    "name": "ipython",
    "version": 2
   },
   "file_extension": ".py",
   "mimetype": "text/x-python",
   "name": "python",
   "nbconvert_exporter": "python",
   "pygments_lexer": "ipython2",
   "version": "2.7.12"
  }
 },
 "nbformat": 4,
 "nbformat_minor": 1
}
