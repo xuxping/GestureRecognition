{
 "cells": [
  {
   "cell_type": "code",
   "execution_count": 1,
   "metadata": {},
   "outputs": [
    {
     "name": "stdout",
     "output_type": "stream",
     "text": [
      "DNN_model  classify.ipynb  infer.py   models-0.75  test_api.py\r\n",
      "README.md  fronted\t   infer.pyc  models-0.78  utils.py\r\n",
      "api_data   gesture\t   logs       server.py\r\n"
     ]
    }
   ],
   "source": [
    "!ls"
   ]
  },
  {
   "cell_type": "code",
   "execution_count": 2,
   "metadata": {},
   "outputs": [],
   "source": [
    "import paddle\n",
    "import paddle.fluid as fluid\n",
    "import numpy\n",
    "from __future__ import print_function\n",
    "try:\n",
    "    from paddle.fluid.contrib.trainer import *\n",
    "    from paddle.fluid.contrib.inferencer import *\n",
    "except ImportError:\n",
    "    print(\"Import error\")\n",
    "    from paddle.fluid.trainer import *\n",
    "    from paddle.fluid.inferencer import *\n",
    "\n",
    "import numpy as np\n",
    "import paddle\n",
    "import paddle.fluid as fluid\n",
    "import os\n",
    "from PIL import Image, ImageOps\n",
    "import matplotlib\n",
    "matplotlib.use('Agg')\n",
    "%matplotlib inline"
   ]
  },
  {
   "cell_type": "markdown",
   "metadata": {},
   "source": [
    "## 1 - 配置网络结构"
   ]
  },
  {
   "cell_type": "code",
   "execution_count": 3,
   "metadata": {},
   "outputs": [],
   "source": [
    "IMAGE_WIDTH, IMAGE_HEGHT = 64,64"
   ]
  },
  {
   "cell_type": "code",
   "execution_count": 4,
   "metadata": {},
   "outputs": [],
   "source": [
    "def softmax_regression():\n",
    "    \"\"\"\n",
    "    定义softmax分类器：\n",
    "        只通过一层简单的以softmax为激活函数的全连接层，可以得到分类的结果\n",
    "    Args:\n",
    "        img -- 输入的原始图像数据\n",
    "    Return:\n",
    "        predict_image -- 分类的结果\n",
    "    \"\"\"\n",
    "    img = fluid.layers.data(\n",
    "        name='img', shape =[1,IMAGE_WIDTH,IMAGE_HEGHT],dtype = 'float32')\n",
    "    predict = fluid.layers.fc(input=img, size=6, act='softmax')\n",
    "    return predict\n",
    " "
   ]
  },
  {
   "cell_type": "code",
   "execution_count": 5,
   "metadata": {},
   "outputs": [],
   "source": [
    "def multilayer_perceptron():\n",
    "    \"\"\"\n",
    "    定义多层感知机分类器：\n",
    "        含有两个隐藏层（即全连接层）的多层感知器\n",
    "        其中两个隐藏层的激活函数均采用 ReLU，输出层的激活函数用 Softmax\n",
    "    Args:\n",
    "        img -- 输入的原始图像数据\n",
    "    Return:\n",
    "        predict_image -- 分类的结果\n",
    "    \"\"\"\n",
    "    \n",
    "    img = fluid.layers.data(\n",
    "        name='img', shape =[1,IMAGE_WIDTH,IMAGE_HEGHT],dtype = 'float32')\n",
    "    # 第一个全连接层，本层神经元有128个 激活函数为 ReLU \n",
    "    hidden1 = fluid.layers.fc(input=img, size=128, act='relu')\n",
    "    \n",
    "    # 第二个全连接层，本层神经元有64个 激活函数为 ReLU \n",
    "    hidden2 = fluid.layers.fc(input=hidden1, size=64, act='relu')\n",
    "    \n",
    "    # 以 softmax 为激活函数的全连接输出层，输出层的大小必须为 10,对应 0-9 这 10 个数字\n",
    "    predict = fluid.layers.fc(input=hidden2, size=6, act='softmax')\n",
    "    return predict\n"
   ]
  },
  {
   "cell_type": "code",
   "execution_count": 6,
   "metadata": {},
   "outputs": [],
   "source": [
    "\n",
    "def convolutional_neural_network():\n",
    "    \"\"\"\n",
    "    定义卷积神经网络分类器：\n",
    "        输入的二维图像，经过两个卷积-池化层，使用以softmax为激活函数的全连接层作为输出层\n",
    "    Args:\n",
    "        img -- 输入的原始图像数据\n",
    "    Return:\n",
    "        predict -- 分类的结果\n",
    "    \"\"\"\n",
    "    img = fluid.layers.data(\n",
    "        name='img', shape =[1,IMAGE_WIDTH,IMAGE_HEGHT],dtype = 'float32')\n",
    "    # 第一个卷积-池化层\n",
    "    conv_pool1 = fluid.nets.simple_img_conv_pool(input=img, \n",
    "                                             num_filters=20, \n",
    "                                             filter_size=5, \n",
    "                                             pool_size=2, \n",
    "                                             pool_stride=2, \n",
    "                                             pool_padding=0,\n",
    "                                             act='relu')\n",
    "\n",
    "\n",
    "    \n",
    "    # 第二个卷积-池化层\n",
    "    conv_pool2 = fluid.nets.simple_img_conv_pool(input=conv_pool1, \n",
    "                                             num_filters=20, \n",
    "                                             filter_size=5, \n",
    "                                             pool_size=2, \n",
    "                                             pool_stride=2, \n",
    "                                             pool_padding=0,\n",
    "                                             act='relu')\n",
    "    \n",
    "    \n",
    "    \n",
    "    \n",
    "    # 以softmax为激活函数的全连接输出层，输出层的大小必须为10,对应0-5这10个数字\n",
    "    predict = fluid.layers.fc(input=conv_pool2, size=6, act='softmax')\n",
    "    \n",
    "    return predict\n"
   ]
  },
  {
   "cell_type": "markdown",
   "metadata": {},
   "source": [
    "## 2 - 定义数据加载"
   ]
  },
  {
   "cell_type": "code",
   "execution_count": 7,
   "metadata": {},
   "outputs": [],
   "source": [
    "def load_image(filename):\n",
    "    \"\"\"\n",
    "    定义读取输入图片的函数：\n",
    "        读取指定路径下的图片，将其处理成分类网络输入数据对应形式的数据，如数据维度等\n",
    "    Args:\n",
    "        file -- 输入图片的文件路径\n",
    "    Return:\n",
    "        im -- 分类网络输入数据对应形式的数据\n",
    "    \"\"\"\n",
    "    im = Image.open(filename).convert('L')\n",
    "\n",
    "    im = im.resize((IMAGE_WIDTH,IMAGE_HEGHT), Image.ANTIALIAS)\n",
    "    im = np.array(im).reshape(1, 1, IMAGE_WIDTH,IMAGE_HEGHT).astype(np.float32)\n",
    "    im = im / 255.0 * 2.0 - 1.0\n",
    "    return im\n"
   ]
  },
  {
   "cell_type": "code",
   "execution_count": 8,
   "metadata": {},
   "outputs": [],
   "source": [
    "def train_data_reader():\n",
    "    def reader():\n",
    "        buffer_size = 100\n",
    "        for dirpath, dirnames, filenames in os.walk('./gesture/train/'):\n",
    "            for filename in filenames:\n",
    "                if filename[0] == '.':\n",
    "                    continue\n",
    "                label = filename.split('.')[-2][-1]\n",
    "                images = load_image(os.path.join(dirpath, filename))\n",
    "                yield images, int(label)\n",
    "    return reader"
   ]
  },
  {
   "cell_type": "code",
   "execution_count": 9,
   "metadata": {},
   "outputs": [],
   "source": [
    "def test_data_reader():\n",
    "    def reader():\n",
    "        buffer_size = 100\n",
    "        for dirpath, dirnames, filenames in os.walk('./gesture/test/'):\n",
    "            label = dirpath.split('/')[-1]\n",
    "            for filename in filenames:\n",
    "                if filename[0] == '.':\n",
    "                    continue\n",
    "                images = load_image(os.path.join(dirpath, filename))\n",
    "                yield images, int(label)\n",
    "    return reader"
   ]
  },
  {
   "cell_type": "markdown",
   "metadata": {},
   "source": [
    "\n",
    "## 3 - 训练过程\n",
    "\n",
    "在构建完成分类器后，接下来进入模型的训练过程，一般步骤如下：\n",
    "\n",
    "- 设置训练场所\n",
    "- 配置网络结构和优化方法\n",
    "    - 配置网络结构\n",
    "    - 定义损失函数 cost\n",
    "    - 定义优化器 optimizer\n",
    "- 训练准备\n",
    "    - 定义输入数据与网络的映射关系\n",
    "    - 定义文件路径\n",
    "    - 事件处理函数\n",
    "    - 定义执行器\n",
    "        - 初始化网络参数\n",
    "- 模型训练\n",
    "    - 定义 reader\n",
    "    - 定义 trainer \n",
    "    - 开始训练"
   ]
  },
  {
   "cell_type": "markdown",
   "metadata": {},
   "source": [
    "\n",
    "### ** （1）设置训练场所 **\n",
    "\n",
    "首先进行设置训练使用的设备。在复杂量较低的时候使用 CPU 就可以完成任务，但是对于大规模计算就需要使用 GPU 训练。目前 GPU 训练都是基于 CUDA 工具之上的。\n",
    "- use_cuda=False 表示不使用 GPU 进行训练"
   ]
  },
  {
   "cell_type": "code",
   "execution_count": 10,
   "metadata": {},
   "outputs": [],
   "source": [
    "# 设置训练场所\n",
    "use_cuda = False\n",
    "place = fluid.CUDAPlace(1) if use_cuda else fluid.CPUPlace()"
   ]
  },
  {
   "cell_type": "markdown",
   "metadata": {},
   "source": [
    "### ** （2）配置网络结构和优化方法 **\n",
    "这一阶段，我们关注的是网络拓扑结构的配置和优化方法的配置\n",
    "\n",
    "** 网络结构 **  \n",
    "接下来需要配置分类网络的结构，首先通过 layers.data 配置数据输入层，然后配置分类器（代码中提供了三个不同的分类器，每次使用选择其中一个，注释掉其余两个即可）。例如下方代码中选用的是卷积神经网络分类器。  \n",
    "然后设置损失函数，对于分类问题常常选择交叉熵损失函数。  \n"
   ]
  },
  {
   "cell_type": "code",
   "execution_count": 11,
   "metadata": {},
   "outputs": [],
   "source": [
    "def train_func():\n",
    "    \"\"\"\n",
    "    配置网络结构\n",
    "    Args:\n",
    "    Return:\n",
    "        label -- 标签数据\n",
    "        predict -- 输出层\n",
    "        cost -- 损失函数\n",
    "        optimizer -- 优化器\n",
    "    \"\"\"\n",
    "    \"\"\"\n",
    "    标签层:\n",
    "        name=’label’：名称为label,对应输入图片的类别标签\n",
    "    \"\"\"\n",
    "    label = fluid.layers.data(name='label', shape = [1],dtype = 'int64')\n",
    "\n",
    "\n",
    "    \"\"\" \n",
    "    选择分类器：\n",
    "        在此之前已经定义了3种不同的分类器，在下面的代码中,\n",
    "        我们可以通过保留某种方法的调用语句、注释掉其余两种，以选择特定的分类器\n",
    "    \"\"\"\n",
    "#     predict = softmax_regression()\n",
    "#     predict = multilayer_perceptron()\n",
    "    predict = convolutional_neural_network()\n",
    "\n",
    "    # 损失函数，cross_entropy 函数内部使用交叉熵损失函数\n",
    "    cost = fluid.layers.cross_entropy(input=predict, label=label)\n",
    "    avg_cost = fluid.layers.mean(cost)\n",
    "    acc = fluid.layers.accuracy(input=predict, label=label)\n",
    "    return [avg_cost, acc]\n",
    "\n"
   ]
  },
  {
   "cell_type": "markdown",
   "metadata": {},
   "source": [
    "** optimizer **  \n",
    "\n",
    "1. 创建优化器 \n",
    "这里可以尝试采用 Momentum 或 Adam 优化器。 \n",
    "\n",
    "2. 使用优化器  \n",
    "- 训练过程在更新权重时采用动量优化器 `Momentum` ，Momentum是为了让目标函数沿梯度方向快速收敛的一种加速学习方法，其中参数 0.9 代表动量优化每次保持前一次速度的 0.9 倍。\n",
    "- 训练速度（learning_rate）： 迭代的速度，与网络的训练收敛速度有关系。\n"
   ]
  },
  {
   "cell_type": "code",
   "execution_count": 12,
   "metadata": {},
   "outputs": [],
   "source": [
    "def optimizer_func():\n",
    "    # 创建优化器optimizer，下面列举了2种常用的优化器，不同类型优化器选一即可\n",
    "    # 创建Momentum优化器，并设置学习率(learning_rate)、动量(momentum)\n",
    "    optimizer = fluid.optimizer.Momentum(learning_rate=0.1 , momentum=0.9)\n",
    "#     optimizer = fluid.optimizer.SGDOptimizer(learning_rate=1e-3)\n",
    "#     optimizer = fluid.optimizer.Adagrad(learning_rate=1e-2)\n",
    "    \n",
    "    return optimizer"
   ]
  },
  {
   "cell_type": "markdown",
   "metadata": {},
   "source": [
    "### ** （3）训练准备 **\n",
    "这个阶段我们关注的是小的相关内容的配置。  \n",
    "** 定义映射 **  \n",
    "输入网络的数据要与网络本身应该接受的数据相匹配。在 fluid 中使用 feed_order 的概念来保证输入的数据与网络接受的数据的顺序是一致的。本示例中使用 feed_order = ['x', 'label'] 来告知网络，输入的数据是分为两部分，第一部分是 x 值，第二部分是 label 值。"
   ]
  },
  {
   "cell_type": "code",
   "execution_count": 13,
   "metadata": {},
   "outputs": [],
   "source": [
    "feed_order = ['img', 'label'] "
   ]
  },
  {
   "cell_type": "markdown",
   "metadata": {},
   "source": [
    "** 定义文件路径 **  \n",
    "\n",
    "在 fluid 中，默认模型的相关数据是需要保存在硬盘上的。也就是说在训练阶段会将训练好的模型保存在硬盘上，在将预测阶段可以直接 load 磁盘上的模型数据，进而做出预测。"
   ]
  },
  {
   "cell_type": "code",
   "execution_count": 14,
   "metadata": {},
   "outputs": [],
   "source": [
    "params_dirname = \"./DNN_model\""
   ]
  },
  {
   "cell_type": "markdown",
   "metadata": {},
   "source": [
    "** 定义事件处理函数 **  \n",
    "在 fluid 中，如果是用 trainer 的方式来训练的话，那么，在训练的时候允许开发者自己定义事件回调函数。目前接受的事件有 BeginEpochEvent、EndEpochEvent、BeginStepEvent、EndStepEvent。\n",
    " 用于输出训练过程中 cost 的变化。"
   ]
  },
  {
   "cell_type": "code",
   "execution_count": 15,
   "metadata": {},
   "outputs": [],
   "source": [
    "\n",
    "# Plot data\n",
    "from paddle.v2.plot import Ploter\n",
    "train_title = \"Train cost\"\n",
    "test_title = \"Test cost\"\n",
    "plot_cost = Ploter(train_title, test_title)\n",
    "\n",
    "train_str = []\n",
    "step = 0\n",
    "# 事件处理\n",
    "def event_handler_plot(event):\n",
    "    global step, train_str\n",
    "    if isinstance(event, EndStepEvent):\n",
    "        if event.step % 2 == 0: # 若干个batch,记录cost\n",
    "            if event.metrics[0] < 10:\n",
    "                plot_cost.append(train_title, step, event.metrics[0])\n",
    "                plot_cost.plot()\n",
    "        if event.step % 20 == 0: # 若干个batch,记录cost\n",
    "            avg_cost, acc = trainer.test(\n",
    "            reader=test_reader, feed_order=feed_order)\n",
    "            if avg_cost < 10:\n",
    "                plot_cost.append(test_title, step, avg_cost)\n",
    "                plot_cost.plot()\n",
    "\n",
    "#             if avg_cost < 0.5:\n",
    "#                 # 如果准确率达到阈值，则停止训练\n",
    "#                 print('loss is less than 10.0, stop')\n",
    "#                 trainer.stop()\n",
    "            train_str.append(\"Pass %d, Epoch %d,Train Cost %f, Train Acc %f, Test Cost %f, Test Acc %f,\"\\\n",
    "                           %(event.step, event.epoch,\n",
    "                           event.metrics[0],#train_program返回的第一个参数arg_cost\n",
    "                           event.metrics[1],#train_program返回的第二个参数acc\n",
    "                           avg_cost,\n",
    "                           acc))\n",
    "            \n",
    "                            \n",
    "            \n",
    "    step += 1\n",
    "    if isinstance(event, EndEpochEvent):\n",
    "        # 将参数存储，用于预测使用\n",
    "        if params_dirname is not None:\n",
    "            trainer.save_params(params_dirname)\n",
    "#         avg_cost, acc = trainer.test(reader=test_reader, feed_order=feed_order)\n",
    "#         print(\"Test with Epoch %d, avg_cost: %s, acc: %s\" % (event.epoch, avg_cost, acc))\n",
    "        \n",
    "        \n",
    "        "
   ]
  },
  {
   "cell_type": "markdown",
   "metadata": {},
   "source": [
    "** 定义执行器 **   \n",
    "为了能够运行开发者定义的网络拓扑结构和优化器，需要定义执行器。由执行器来真正的执行参数的初始化和网络的训练过程。"
   ]
  },
  {
   "cell_type": "code",
   "execution_count": 16,
   "metadata": {},
   "outputs": [
    {
     "data": {
      "text/plain": [
       "[]"
      ]
     },
     "execution_count": 16,
     "metadata": {},
     "output_type": "execute_result"
    }
   ],
   "source": [
    "# 创建执行器，palce在程序初始化时设定\n",
    "exe = fluid.Executor(place)\n",
    "# 初始化执行器\n",
    "exe.run(fluid.default_startup_program() )"
   ]
  },
  {
   "cell_type": "markdown",
   "metadata": {},
   "source": [
    "### （4）** 模型训练 **\n",
    "\n",
    "** 定义reader **   \n",
    "网络接受的数据实际上是一个又一个的 mini-batch 。 paddle 框架为开发者准备好了 paddle.batch 函数来提供一个又一个 mini-batch。在实际输入数据的时候，我们希望的是数据顺序不要影响网络是训练，paddle 框架也准备了 paddle.reader.shuffle 函数来打乱输入的顺序。 \n"
   ]
  },
  {
   "cell_type": "code",
   "execution_count": 17,
   "metadata": {},
   "outputs": [],
   "source": [
    "# 设置 BATCH_SIZE 的大小\n",
    "### 练习代码开始处 ### (1行代码) \n",
    "BATCH_SIZE = 128\n",
    "### 练习代码结束处 ###\n",
    "\n",
    "# 设置训练reader\n",
    "train_reader = paddle.batch(\n",
    "    paddle.reader.shuffle(\n",
    "        train_data_reader(), \n",
    "        buf_size=500),\n",
    "    batch_size=BATCH_SIZE)\n",
    "\n",
    "#设置测试 reader\n",
    "test_reader = paddle.batch(\n",
    "    paddle.reader.shuffle(\n",
    "        test_data_reader(), \n",
    "        buf_size=500),\n",
    "    batch_size=BATCH_SIZE)"
   ]
  },
  {
   "cell_type": "markdown",
   "metadata": {},
   "source": [
    "** 定义trainer **   \n",
    "trainer 负责收集训练需要的相关信息。定义 trainer 时需要提供 3个重要信息：\n",
    "1. 网络拓扑结构，通过参数 train_func 设定\n",
    "2. 真实训练的设备，通过参数 place 设定\n",
    "3. 优化方法，通过参数 optimizer_func 设定"
   ]
  },
  {
   "cell_type": "code",
   "execution_count": 18,
   "metadata": {},
   "outputs": [],
   "source": [
    "#创建训练器\n",
    "trainer = Trainer(\n",
    "    train_func= train_func,\n",
    "    place= place,\n",
    "    optimizer_func= optimizer_func)\n"
   ]
  },
  {
   "cell_type": "markdown",
   "metadata": {},
   "source": [
    "** 开始训练 **  \n",
    "在做好了所有的准备工作之后，就开始开始训练了。由于本例使用的是 trainer 的方法，所以可以直接调用 trainer 的 train 方法来执行训练。train 方法主要需要设置3个参数： reader、num_epochs 和 feeder_order。\n",
    "其中，  \n",
    ">reader 表示能够持续提供 mini-batch 的数据源  \n",
    ">num_epochs 表示所有的数据将要训练多少轮次（就是一个数字）  \n",
    ">feeder_order 表示数据的顺序。\n",
    "\n",
    "我们注意到，reader 和 feeder_order 在前面的准备过程中已经准备好了。 除了这三个参数外，train 还接受一个 event_handler 参数。这个参数允许开发者自己定义回调函数，用以在训练过程中打印训练相关的信息，甚至在合适的时候停止训练。  \n",
    "函数的形式如下：\n",
    "```\n",
    "trainer.train(\n",
    "    reader= ,\n",
    "    num_epochs= ,\n",
    "    event_handler= ,\n",
    "    feed_order= )\n",
    "```"
   ]
  },
  {
   "cell_type": "code",
   "execution_count": 19,
   "metadata": {},
   "outputs": [
    {
     "data": {
      "image/png": "[encoded data removed]",
      "text/plain": [
       "<Figure size 432x288 with 1 Axes>"
      ]
     },
     "metadata": {},
     "output_type": "display_data"
    },
    {
     "data": {
      "text/plain": [
       "<Figure size 432x288 with 0 Axes>"
      ]
     },
     "metadata": {},
     "output_type": "display_data"
    }
   ],
   "source": [
    "trainer.train(\n",
    "    reader=train_reader,\n",
    "    num_epochs=20,\n",
    "    event_handler=event_handler_plot,\n",
    "    feed_order=feed_order)\n"
   ]
  },
  {
   "cell_type": "code",
   "execution_count": 20,
   "metadata": {},
   "outputs": [
    {
     "name": "stdout",
     "output_type": "stream",
     "text": [
      "Pass 0, Epoch 0,Train Cost 2.091950, Train Acc 0.156250, Test Cost 5.928292, Test Acc 0.183333,\n",
      "Pass 20, Epoch 0,Train Cost 1.791802, Train Acc 0.164062, Test Cost 1.792708, Test Acc 0.175000,\n",
      "Pass 40, Epoch 0,Train Cost 1.591206, Train Acc 0.328125, Test Cost 1.581969, Test Acc 0.425000,\n",
      "Pass 0, Epoch 1,Train Cost 1.382789, Train Acc 0.437500, Test Cost 1.535678, Test Acc 0.466667,\n",
      "Pass 20, Epoch 1,Train Cost 1.455630, Train Acc 0.414062, Test Cost 1.465425, Test Acc 0.341667,\n",
      "Pass 40, Epoch 1,Train Cost 1.340275, Train Acc 0.406250, Test Cost 1.422728, Test Acc 0.375000,\n",
      "Pass 0, Epoch 2,Train Cost 1.228244, Train Acc 0.500000, Test Cost 1.309346, Test Acc 0.450000,\n",
      "Pass 20, Epoch 2,Train Cost 1.240915, Train Acc 0.492188, Test Cost 1.315663, Test Acc 0.541667,\n",
      "Pass 40, Epoch 2,Train Cost 1.189503, Train Acc 0.554688, Test Cost 1.171998, Test Acc 0.550000,\n",
      "Pass 0, Epoch 3,Train Cost 1.075830, Train Acc 0.562500, Test Cost 1.142897, Test Acc 0.608333,\n",
      "Pass 20, Epoch 3,Train Cost 1.097684, Train Acc 0.570312, Test Cost 1.337481, Test Acc 0.550000,\n",
      "Pass 40, Epoch 3,Train Cost 1.195753, Train Acc 0.648438, Test Cost 1.142729, Test Acc 0.591667,\n",
      "Pass 0, Epoch 4,Train Cost 1.262089, Train Acc 0.570312, Test Cost 1.233225, Test Acc 0.575000,\n",
      "Pass 20, Epoch 4,Train Cost 1.153584, Train Acc 0.507812, Test Cost 1.139621, Test Acc 0.591667,\n",
      "Pass 40, Epoch 4,Train Cost 1.124248, Train Acc 0.562500, Test Cost 1.340799, Test Acc 0.491667,\n",
      "Pass 0, Epoch 5,Train Cost 1.144489, Train Acc 0.554688, Test Cost 1.219561, Test Acc 0.533333,\n",
      "Pass 20, Epoch 5,Train Cost 1.017823, Train Acc 0.601562, Test Cost 1.003952, Test Acc 0.633333,\n",
      "Pass 40, Epoch 5,Train Cost 0.763865, Train Acc 0.726562, Test Cost 0.892367, Test Acc 0.683333,\n",
      "Pass 0, Epoch 6,Train Cost 1.189925, Train Acc 0.570312, Test Cost 1.077946, Test Acc 0.608333,\n",
      "Pass 20, Epoch 6,Train Cost 0.968000, Train Acc 0.601562, Test Cost 1.330525, Test Acc 0.433333,\n",
      "Pass 40, Epoch 6,Train Cost 0.697221, Train Acc 0.765625, Test Cost 0.968380, Test Acc 0.666667,\n",
      "Pass 0, Epoch 7,Train Cost 0.783402, Train Acc 0.750000, Test Cost 0.888777, Test Acc 0.708333,\n",
      "Pass 20, Epoch 7,Train Cost 0.722233, Train Acc 0.734375, Test Cost 0.838123, Test Acc 0.658333,\n",
      "Pass 40, Epoch 7,Train Cost 0.422852, Train Acc 0.851562, Test Cost 0.764627, Test Acc 0.725000,\n",
      "Pass 0, Epoch 8,Train Cost 0.565767, Train Acc 0.773438, Test Cost 0.749232, Test Acc 0.725000,\n",
      "Pass 20, Epoch 8,Train Cost 0.940113, Train Acc 0.632812, Test Cost 1.146701, Test Acc 0.533333,\n",
      "Pass 40, Epoch 8,Train Cost 0.659477, Train Acc 0.773438, Test Cost 1.011502, Test Acc 0.650000,\n",
      "Pass 0, Epoch 9,Train Cost 0.735034, Train Acc 0.750000, Test Cost 0.850985, Test Acc 0.683333,\n",
      "Pass 20, Epoch 9,Train Cost 0.645158, Train Acc 0.742188, Test Cost 0.816471, Test Acc 0.675000,\n",
      "Pass 40, Epoch 9,Train Cost 0.663767, Train Acc 0.765625, Test Cost 0.714677, Test Acc 0.775000,\n",
      "Pass 0, Epoch 10,Train Cost 0.563244, Train Acc 0.796875, Test Cost 0.735735, Test Acc 0.733333,\n",
      "Pass 20, Epoch 10,Train Cost 0.679727, Train Acc 0.789062, Test Cost 0.711135, Test Acc 0.725000,\n",
      "Pass 40, Epoch 10,Train Cost 0.562100, Train Acc 0.781250, Test Cost 0.751237, Test Acc 0.733333,\n",
      "Pass 0, Epoch 11,Train Cost 0.458568, Train Acc 0.835938, Test Cost 0.741446, Test Acc 0.750000,\n",
      "Pass 20, Epoch 11,Train Cost 0.720340, Train Acc 0.765625, Test Cost 0.754882, Test Acc 0.666667,\n",
      "Pass 40, Epoch 11,Train Cost 0.468195, Train Acc 0.828125, Test Cost 0.777525, Test Acc 0.666667,\n",
      "Pass 0, Epoch 12,Train Cost 0.517955, Train Acc 0.789062, Test Cost 0.827222, Test Acc 0.716667,\n",
      "Pass 20, Epoch 12,Train Cost 0.503434, Train Acc 0.820312, Test Cost 0.770343, Test Acc 0.700000,\n",
      "Pass 40, Epoch 12,Train Cost 0.427094, Train Acc 0.843750, Test Cost 0.761055, Test Acc 0.733333,\n",
      "Pass 0, Epoch 13,Train Cost 0.488830, Train Acc 0.789062, Test Cost 0.806224, Test Acc 0.716667,\n",
      "Pass 20, Epoch 13,Train Cost 0.656801, Train Acc 0.765625, Test Cost 0.758112, Test Acc 0.675000,\n",
      "Pass 40, Epoch 13,Train Cost 0.575887, Train Acc 0.781250, Test Cost 0.766484, Test Acc 0.750000,\n",
      "Pass 0, Epoch 14,Train Cost 0.531954, Train Acc 0.804688, Test Cost 0.760432, Test Acc 0.750000,\n",
      "Pass 20, Epoch 14,Train Cost 0.553869, Train Acc 0.812500, Test Cost 0.779991, Test Acc 0.708333,\n",
      "Pass 40, Epoch 14,Train Cost 0.368711, Train Acc 0.875000, Test Cost 0.660963, Test Acc 0.758333,\n",
      "Pass 0, Epoch 15,Train Cost 0.418736, Train Acc 0.820312, Test Cost 0.755280, Test Acc 0.725000,\n",
      "Pass 20, Epoch 15,Train Cost 0.672502, Train Acc 0.789062, Test Cost 0.706567, Test Acc 0.725000,\n",
      "Pass 40, Epoch 15,Train Cost 0.373574, Train Acc 0.882812, Test Cost 0.698741, Test Acc 0.775000,\n",
      "Pass 0, Epoch 16,Train Cost 0.693153, Train Acc 0.789062, Test Cost 0.742990, Test Acc 0.725000,\n",
      "Pass 20, Epoch 16,Train Cost 0.618036, Train Acc 0.812500, Test Cost 0.799928, Test Acc 0.700000,\n",
      "Pass 40, Epoch 16,Train Cost 0.393834, Train Acc 0.875000, Test Cost 0.721022, Test Acc 0.725000,\n",
      "Pass 0, Epoch 17,Train Cost 0.461293, Train Acc 0.828125, Test Cost 0.788979, Test Acc 0.716667,\n",
      "Pass 20, Epoch 17,Train Cost 0.406221, Train Acc 0.859375, Test Cost 0.650147, Test Acc 0.725000,\n",
      "Pass 40, Epoch 17,Train Cost 0.494991, Train Acc 0.812500, Test Cost 0.820102, Test Acc 0.750000,\n",
      "Pass 0, Epoch 18,Train Cost 0.371339, Train Acc 0.875000, Test Cost 0.915464, Test Acc 0.700000,\n",
      "Pass 20, Epoch 18,Train Cost 0.446338, Train Acc 0.859375, Test Cost 0.785540, Test Acc 0.700000,\n",
      "Pass 40, Epoch 18,Train Cost 0.411977, Train Acc 0.859375, Test Cost 0.680990, Test Acc 0.741667,\n",
      "Pass 0, Epoch 19,Train Cost 0.456202, Train Acc 0.851562, Test Cost 0.689750, Test Acc 0.766667,\n",
      "Pass 20, Epoch 19,Train Cost 0.354476, Train Acc 0.898438, Test Cost 0.647869, Test Acc 0.741667,\n",
      "Pass 40, Epoch 19,Train Cost 0.311554, Train Acc 0.890625, Test Cost 0.742137, Test Acc 0.716667,\n"
     ]
    }
   ],
   "source": [
    "for train_s in train_str:\n",
    "    print(train_s)"
   ]
  },
  {
   "cell_type": "code",
   "execution_count": 21,
   "metadata": {
    "scrolled": true
   },
   "outputs": [
    {
     "name": "stdout",
     "output_type": "stream",
     "text": [
      "/paddle_train/GestureRecognition\n",
      "total_acc: 75.83%\n"
     ]
    }
   ],
   "source": [
    "\n",
    "# 读取并预处理要预测的图片\n",
    "cur_dir = os.getcwd()\n",
    "print(cur_dir)\n",
    "# img = load_image(cur_dir + '/gesture/test/4/21.jpg')\n",
    "# 设置训练场所\n",
    "use_cuda = False\n",
    "# use_cuda = True\n",
    "place = fluid.CUDAPlace(1) if use_cuda else fluid.CPUPlace()\n",
    "\n",
    "inferencer = Inferencer(\n",
    "#     infer_func=softmax_regression, # uncomment for softmax regression\n",
    "#     infer_func=multilayer_perceptron, # uncomment for MLP\n",
    "    infer_func=convolutional_neural_network,  # uncomment for LeNet5\n",
    "    param_path=params_dirname,\n",
    "    place=place )\n",
    "y_test = []\n",
    "y_pred = []\n",
    "test_reader = test_data_reader()\n",
    "total_count = 0\n",
    "total_acc = 0.0\n",
    "for img, label in test_reader():\n",
    "    y_test.append(label)\n",
    "    results = inferencer.infer({'img': img})\n",
    "    lab = np.argsort(results)\n",
    "    y_pred.append(lab[0][0][-1])\n",
    "    total_count += 1\n",
    "    if label == lab[0][0][-1]:\n",
    "        total_acc += 1\n",
    "print(\"total_acc: %.2f%%\" % (total_acc / total_count * 100) )\n",
    "# print(lab)\n",
    "# print(\"Label of image/infer_3.png is: %d\" % lab[0][0][-1])\n",
    "# print(np.mean(y_test==y_pred))\n"
   ]
  },
  {
   "cell_type": "code",
   "execution_count": null,
   "metadata": {},
   "outputs": [],
   "source": []
  }
 ],
 "metadata": {
  "kernelspec": {
   "display_name": "Python 2",
   "language": "python",
   "name": "python2"
  },
  "language_info": {
   "codemirror_mode": {
    "name": "ipython",
    "version": 2
   },
   "file_extension": ".py",
   "mimetype": "text/x-python",
   "name": "python",
   "nbconvert_exporter": "python",
   "pygments_lexer": "ipython2",
   "version": "2.7.12"
  }
 },
 "nbformat": 4,
 "nbformat_minor": 1
}
