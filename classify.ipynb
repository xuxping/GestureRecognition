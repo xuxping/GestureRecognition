{
 "cells": [
  {
   "cell_type": "code",
   "execution_count": 6,
   "metadata": {},
   "outputs": [
    {
     "name": "stdout",
     "output_type": "stream",
     "text": [
      "DNN_model  api_data\t   gesture    logs\t   test_api.py\r\n",
      "README.md  classify.ipynb  infer.py   models-0.75  utils.py\r\n",
      "api.py\t   fronted\t   infer.pyc  server.py\r\n"
     ]
    }
   ],
   "source": [
    "!ls"
   ]
  },
  {
   "cell_type": "code",
   "execution_count": 27,
   "metadata": {},
   "outputs": [
    {
     "name": "stderr",
     "output_type": "stream",
     "text": [
      "/usr/local/lib/python2.7/dist-packages/ipykernel_launcher.py:19: UserWarning: \n",
      "This call to matplotlib.use() has no effect because the backend has already\n",
      "been chosen; matplotlib.use() must be called *before* pylab, matplotlib.pyplot,\n",
      "or matplotlib.backends is imported for the first time.\n",
      "\n",
      "The backend was *originally* set to 'module://ipykernel.pylab.backend_inline' by the following code:\n",
      "  File \"/usr/lib/python2.7/runpy.py\", line 174, in _run_module_as_main\n",
      "    \"__main__\", fname, loader, pkg_name)\n",
      "  File \"/usr/lib/python2.7/runpy.py\", line 72, in _run_code\n",
      "    exec code in run_globals\n",
      "  File \"/usr/local/lib/python2.7/dist-packages/ipykernel_launcher.py\", line 16, in <module>\n",
      "    app.launch_new_instance()\n",
      "  File \"/usr/local/lib/python2.7/dist-packages/traitlets/config/application.py\", line 658, in launch_instance\n",
      "    app.start()\n",
      "  File \"/usr/local/lib/python2.7/dist-packages/ipykernel/kernelapp.py\", line 499, in start\n",
      "    self.io_loop.start()\n",
      "  File \"/usr/local/lib/python2.7/dist-packages/tornado/ioloop.py\", line 1017, in start\n",
      "    self._run_callback(self._callbacks.popleft())\n",
      "  File \"/usr/local/lib/python2.7/dist-packages/tornado/ioloop.py\", line 758, in _run_callback\n",
      "    ret = callback()\n",
      "  File \"/usr/local/lib/python2.7/dist-packages/tornado/stack_context.py\", line 300, in null_wrapper\n",
      "    return fn(*args, **kwargs)\n",
      "  File \"/usr/local/lib/python2.7/dist-packages/zmq/eventloop/zmqstream.py\", line 536, in <lambda>\n",
      "    self.io_loop.add_callback(lambda : self._handle_events(self.socket, 0))\n",
      "  File \"/usr/local/lib/python2.7/dist-packages/zmq/eventloop/zmqstream.py\", line 450, in _handle_events\n",
      "    self._handle_recv()\n",
      "  File \"/usr/local/lib/python2.7/dist-packages/zmq/eventloop/zmqstream.py\", line 480, in _handle_recv\n",
      "    self._run_callback(callback, msg)\n",
      "  File \"/usr/local/lib/python2.7/dist-packages/zmq/eventloop/zmqstream.py\", line 432, in _run_callback\n",
      "    callback(*args, **kwargs)\n",
      "  File \"/usr/local/lib/python2.7/dist-packages/tornado/stack_context.py\", line 300, in null_wrapper\n",
      "    return fn(*args, **kwargs)\n",
      "  File \"/usr/local/lib/python2.7/dist-packages/ipykernel/kernelbase.py\", line 283, in dispatcher\n",
      "    return self.dispatch_shell(stream, msg)\n",
      "  File \"/usr/local/lib/python2.7/dist-packages/ipykernel/kernelbase.py\", line 233, in dispatch_shell\n",
      "    handler(stream, idents, msg)\n",
      "  File \"/usr/local/lib/python2.7/dist-packages/ipykernel/kernelbase.py\", line 399, in execute_request\n",
      "    user_expressions, allow_stdin)\n",
      "  File \"/usr/local/lib/python2.7/dist-packages/ipykernel/ipkernel.py\", line 208, in do_execute\n",
      "    res = shell.run_cell(code, store_history=store_history, silent=silent)\n",
      "  File \"/usr/local/lib/python2.7/dist-packages/ipykernel/zmqshell.py\", line 537, in run_cell\n",
      "    return super(ZMQInteractiveShell, self).run_cell(*args, **kwargs)\n",
      "  File \"/usr/local/lib/python2.7/dist-packages/IPython/core/interactiveshell.py\", line 2714, in run_cell\n",
      "    interactivity=interactivity, compiler=compiler, result=result)\n",
      "  File \"/usr/local/lib/python2.7/dist-packages/IPython/core/interactiveshell.py\", line 2824, in run_ast_nodes\n",
      "    if self.run_code(code, result):\n",
      "  File \"/usr/local/lib/python2.7/dist-packages/IPython/core/interactiveshell.py\", line 2878, in run_code\n",
      "    exec(code_obj, self.user_global_ns, self.user_ns)\n",
      "  File \"<ipython-input-7-415865145923>\", line 20, in <module>\n",
      "    get_ipython().magic(u'matplotlib inline')\n",
      "  File \"/usr/local/lib/python2.7/dist-packages/IPython/core/interactiveshell.py\", line 2160, in magic\n",
      "    return self.run_line_magic(magic_name, magic_arg_s)\n",
      "  File \"/usr/local/lib/python2.7/dist-packages/IPython/core/interactiveshell.py\", line 2081, in run_line_magic\n",
      "    result = fn(*args,**kwargs)\n",
      "  File \"<decorator-gen-105>\", line 2, in matplotlib\n",
      "  File \"/usr/local/lib/python2.7/dist-packages/IPython/core/magic.py\", line 188, in <lambda>\n",
      "    call = lambda f, *a, **k: f(*a, **k)\n",
      "  File \"/usr/local/lib/python2.7/dist-packages/IPython/core/magics/pylab.py\", line 100, in matplotlib\n",
      "    gui, backend = self.shell.enable_matplotlib(args.gui)\n",
      "  File \"/usr/local/lib/python2.7/dist-packages/IPython/core/interactiveshell.py\", line 2966, in enable_matplotlib\n",
      "    pt.activate_matplotlib(backend)\n",
      "  File \"/usr/local/lib/python2.7/dist-packages/IPython/core/pylabtools.py\", line 315, in activate_matplotlib\n",
      "    matplotlib.pyplot.switch_backend(backend)\n",
      "  File \"/usr/local/lib/python2.7/dist-packages/matplotlib/pyplot.py\", line 231, in switch_backend\n",
      "    matplotlib.use(newbackend, warn=False, force=True)\n",
      "  File \"/usr/local/lib/python2.7/dist-packages/matplotlib/__init__.py\", line 1422, in use\n",
      "    reload(sys.modules['matplotlib.backends'])\n",
      "  File \"/usr/local/lib/python2.7/dist-packages/matplotlib/backends/__init__.py\", line 16, in <module>\n",
      "    line for line in traceback.format_stack()\n",
      "\n",
      "\n"
     ]
    }
   ],
   "source": [
    "import paddle\n",
    "import paddle.fluid as fluid\n",
    "import numpy\n",
    "from __future__ import print_function\n",
    "try:\n",
    "    from paddle.fluid.contrib.trainer import *\n",
    "    from paddle.fluid.contrib.inferencer import *\n",
    "except ImportError:\n",
    "    print(\"Import error\")\n",
    "    from paddle.fluid.trainer import *\n",
    "    from paddle.fluid.inferencer import *\n",
    "\n",
    "import numpy as np\n",
    "import paddle\n",
    "import paddle.fluid as fluid\n",
    "import os\n",
    "from PIL import Image, ImageOps\n",
    "import matplotlib\n",
    "matplotlib.use('Agg')\n",
    "%matplotlib inline"
   ]
  },
  {
   "cell_type": "markdown",
   "metadata": {},
   "source": [
    "## 1 - 配置网络结构"
   ]
  },
  {
   "cell_type": "code",
   "execution_count": 8,
   "metadata": {},
   "outputs": [],
   "source": [
    "IMAGE_WIDTH, IMAGE_HEGHT = 64,64"
   ]
  },
  {
   "cell_type": "code",
   "execution_count": 9,
   "metadata": {},
   "outputs": [],
   "source": [
    "def softmax_regression():\n",
    "    \"\"\"\n",
    "    定义softmax分类器：\n",
    "        只通过一层简单的以softmax为激活函数的全连接层，可以得到分类的结果\n",
    "    Args:\n",
    "        img -- 输入的原始图像数据\n",
    "    Return:\n",
    "        predict_image -- 分类的结果\n",
    "    \"\"\"\n",
    "    img = fluid.layers.data(\n",
    "        name='img', shape =[1,IMAGE_WIDTH,IMAGE_HEGHT],dtype = 'float32')\n",
    "    predict = fluid.layers.fc(input=img, size=10, act='softmax')\n",
    "    return predict\n",
    " "
   ]
  },
  {
   "cell_type": "code",
   "execution_count": 10,
   "metadata": {},
   "outputs": [],
   "source": [
    "def multilayer_perceptron():\n",
    "    \"\"\"\n",
    "    定义多层感知机分类器：\n",
    "        含有两个隐藏层（即全连接层）的多层感知器\n",
    "        其中两个隐藏层的激活函数均采用 ReLU，输出层的激活函数用 Softmax\n",
    "    Args:\n",
    "        img -- 输入的原始图像数据\n",
    "    Return:\n",
    "        predict_image -- 分类的结果\n",
    "    \"\"\"\n",
    "    \n",
    "    img = fluid.layers.data(\n",
    "        name='img', shape =[1,IMAGE_WIDTH,IMAGE_HEGHT],dtype = 'float32')\n",
    "    # 第一个全连接层，本层神经元有128个 激活函数为 ReLU \n",
    "    hidden1 = fluid.layers.fc(input=img, size=128, act='relu')\n",
    "    \n",
    "    # 第二个全连接层，本层神经元有64个 激活函数为 ReLU \n",
    "    hidden2 = fluid.layers.fc(input=hidden1, size=64, act='relu')\n",
    "    \n",
    "    # 以 softmax 为激活函数的全连接输出层，输出层的大小必须为 10,对应 0-9 这 10 个数字\n",
    "    predict = fluid.layers.fc(input=hidden2, size=10, act='softmax')\n",
    "    return predict\n"
   ]
  },
  {
   "cell_type": "code",
   "execution_count": 11,
   "metadata": {},
   "outputs": [],
   "source": [
    "\n",
    "def convolutional_neural_network():\n",
    "    \"\"\"\n",
    "    定义卷积神经网络分类器：\n",
    "        输入的二维图像，经过两个卷积-池化层，使用以softmax为激活函数的全连接层作为输出层\n",
    "    Args:\n",
    "        img -- 输入的原始图像数据\n",
    "    Return:\n",
    "        predict -- 分类的结果\n",
    "    \"\"\"\n",
    "    img = fluid.layers.data(\n",
    "        name='img', shape =[1,IMAGE_WIDTH,IMAGE_HEGHT],dtype = 'float32')\n",
    "    # 第一个卷积-池化层\n",
    "    conv_pool1 = fluid.nets.simple_img_conv_pool(input=img, \n",
    "                                             num_filters=20, \n",
    "                                             filter_size=5, \n",
    "                                             pool_size=2, \n",
    "                                             pool_stride=2, \n",
    "                                             pool_padding=0,\n",
    "                                             act='relu')\n",
    "\n",
    "\n",
    "    \n",
    "    # 第二个卷积-池化层\n",
    "    conv_pool2 = fluid.nets.simple_img_conv_pool(input=conv_pool1, \n",
    "                                             num_filters=20, \n",
    "                                             filter_size=5, \n",
    "                                             pool_size=2, \n",
    "                                             pool_stride=2, \n",
    "                                             pool_padding=0,\n",
    "                                             act='relu')\n",
    "    \n",
    "    \n",
    "    \n",
    "    \n",
    "    # 以softmax为激活函数的全连接输出层，输出层的大小必须为10,对应0-9这10个数字\n",
    "    predict = fluid.layers.fc(input=conv_pool2, size=10, act='softmax')\n",
    "    \n",
    "    return predict\n"
   ]
  },
  {
   "cell_type": "markdown",
   "metadata": {},
   "source": [
    "## 2 - 定义数据加载"
   ]
  },
  {
   "cell_type": "code",
   "execution_count": 12,
   "metadata": {},
   "outputs": [],
   "source": [
    "def load_image(filename):\n",
    "    \"\"\"\n",
    "    定义读取输入图片的函数：\n",
    "        读取指定路径下的图片，将其处理成分类网络输入数据对应形式的数据，如数据维度等\n",
    "    Args:\n",
    "        file -- 输入图片的文件路径\n",
    "    Return:\n",
    "        im -- 分类网络输入数据对应形式的数据\n",
    "    \"\"\"\n",
    "    im = Image.open(filename).convert('L')\n",
    "\n",
    "    im = im.resize((IMAGE_WIDTH,IMAGE_HEGHT), Image.ANTIALIAS)\n",
    "    im = np.array(im).reshape(1, 1, IMAGE_WIDTH,IMAGE_HEGHT).astype(np.float32)\n",
    "    im = im / 255.0 * 2.0 - 1.0\n",
    "    return im\n"
   ]
  },
  {
   "cell_type": "code",
   "execution_count": 13,
   "metadata": {},
   "outputs": [],
   "source": [
    "def train_data_reader():\n",
    "    def reader():\n",
    "        buffer_size = 100\n",
    "        for dirpath, dirnames, filenames in os.walk('./gesture/train/'):\n",
    "            for filename in filenames:\n",
    "                if filename[0] == '.':\n",
    "                    continue\n",
    "                label = filename.split('.')[-2][-1]\n",
    "                images = load_image(os.path.join(dirpath, filename))\n",
    "                yield images, int(label)\n",
    "    return reader"
   ]
  },
  {
   "cell_type": "code",
   "execution_count": 14,
   "metadata": {},
   "outputs": [],
   "source": [
    "def test_data_reader():\n",
    "    def reader():\n",
    "        buffer_size = 100\n",
    "        for dirpath, dirnames, filenames in os.walk('./gesture/test/'):\n",
    "            label = dirpath.split('/')[-1]\n",
    "            for filename in filenames:\n",
    "                if filename[0] == '.':\n",
    "                    continue\n",
    "                images = load_image(os.path.join(dirpath, filename))\n",
    "                yield images, int(label)\n",
    "    return reader"
   ]
  },
  {
   "cell_type": "markdown",
   "metadata": {},
   "source": [
    "\n",
    "## 3 - 训练过程\n",
    "\n",
    "在构建完成分类器后，接下来进入模型的训练过程，一般步骤如下：\n",
    "\n",
    "- 设置训练场所\n",
    "- 配置网络结构和优化方法\n",
    "    - 配置网络结构\n",
    "    - 定义损失函数 cost\n",
    "    - 定义优化器 optimizer\n",
    "- 训练准备\n",
    "    - 定义输入数据与网络的映射关系\n",
    "    - 定义文件路径\n",
    "    - 事件处理函数\n",
    "    - 定义执行器\n",
    "        - 初始化网络参数\n",
    "- 模型训练\n",
    "    - 定义 reader\n",
    "    - 定义 trainer \n",
    "    - 开始训练"
   ]
  },
  {
   "cell_type": "markdown",
   "metadata": {},
   "source": [
    "\n",
    "### ** （1）设置训练场所 **\n",
    "\n",
    "首先进行设置训练使用的设备。在复杂量较低的时候使用 CPU 就可以完成任务，但是对于大规模计算就需要使用 GPU 训练。目前 GPU 训练都是基于 CUDA 工具之上的。\n",
    "- use_cuda=False 表示不使用 GPU 进行训练"
   ]
  },
  {
   "cell_type": "code",
   "execution_count": 15,
   "metadata": {},
   "outputs": [],
   "source": [
    "# 设置训练场所\n",
    "use_cuda = False\n",
    "place = fluid.CUDAPlace(1) if use_cuda else fluid.CPUPlace()"
   ]
  },
  {
   "cell_type": "markdown",
   "metadata": {},
   "source": [
    "### ** （2）配置网络结构和优化方法 **\n",
    "这一阶段，我们关注的是网络拓扑结构的配置和优化方法的配置\n",
    "\n",
    "** 网络结构 **  \n",
    "接下来需要配置分类网络的结构，首先通过 layers.data 配置数据输入层，然后配置分类器（代码中提供了三个不同的分类器，每次使用选择其中一个，注释掉其余两个即可）。例如下方代码中选用的是卷积神经网络分类器。  \n",
    "然后设置损失函数，对于分类问题常常选择交叉熵损失函数。  \n"
   ]
  },
  {
   "cell_type": "code",
   "execution_count": 16,
   "metadata": {},
   "outputs": [],
   "source": [
    "def train_func():\n",
    "    \"\"\"\n",
    "    配置网络结构\n",
    "    Args:\n",
    "    Return:\n",
    "        label -- 标签数据\n",
    "        predict -- 输出层\n",
    "        cost -- 损失函数\n",
    "        optimizer -- 优化器\n",
    "    \"\"\"\n",
    "    \"\"\"\n",
    "    标签层:\n",
    "        name=’label’：名称为label,对应输入图片的类别标签\n",
    "    \"\"\"\n",
    "    label = fluid.layers.data(name='label', shape = [1],dtype = 'int64')\n",
    "\n",
    "\n",
    "    \"\"\" \n",
    "    选择分类器：\n",
    "        在此之前已经定义了3种不同的分类器，在下面的代码中,\n",
    "        我们可以通过保留某种方法的调用语句、注释掉其余两种，以选择特定的分类器\n",
    "    \"\"\"\n",
    "#     predict = softmax_regression()\n",
    "#     predict = multilayer_perceptron()\n",
    "    predict = convolutional_neural_network()\n",
    "\n",
    "    # 损失函数，cross_entropy 函数内部使用交叉熵损失函数\n",
    "    cost = fluid.layers.cross_entropy(input=predict, label=label)\n",
    "    avg_cost = fluid.layers.mean(cost)\n",
    "    acc = fluid.layers.accuracy(input=predict, label=label)\n",
    "    return [avg_cost, acc]\n",
    "\n"
   ]
  },
  {
   "cell_type": "markdown",
   "metadata": {},
   "source": [
    "** optimizer **  \n",
    "\n",
    "1. 创建优化器 \n",
    "这里可以尝试采用 Momentum 或 Adam 优化器。 \n",
    "\n",
    "2. 使用优化器  \n",
    "- 训练过程在更新权重时采用动量优化器 `Momentum` ，Momentum是为了让目标函数沿梯度方向快速收敛的一种加速学习方法，其中参数 0.9 代表动量优化每次保持前一次速度的 0.9 倍。\n",
    "- 训练速度（learning_rate）： 迭代的速度，与网络的训练收敛速度有关系。\n"
   ]
  },
  {
   "cell_type": "code",
   "execution_count": 17,
   "metadata": {},
   "outputs": [],
   "source": [
    "def optimizer_func():\n",
    "    # 创建优化器optimizer，下面列举了2种常用的优化器，不同类型优化器选一即可\n",
    "    # 创建Momentum优化器，并设置学习率(learning_rate)、动量(momentum)\n",
    "    optimizer = fluid.optimizer.Momentum(learning_rate=0.1 , momentum=0.9)\n",
    "#     optimizer = fluid.optimizer.SGDOptimizer(learning_rate=1e-3)\n",
    "#     optimizer = fluid.optimizer.Adagrad(learning_rate=1e-2)\n",
    "    \n",
    "    return optimizer"
   ]
  },
  {
   "cell_type": "markdown",
   "metadata": {},
   "source": [
    "### ** （3）训练准备 **\n",
    "这个阶段我们关注的是小的相关内容的配置。  \n",
    "** 定义映射 **  \n",
    "输入网络的数据要与网络本身应该接受的数据相匹配。在 fluid 中使用 feed_order 的概念来保证输入的数据与网络接受的数据的顺序是一致的。本示例中使用 feed_order = ['x', 'label'] 来告知网络，输入的数据是分为两部分，第一部分是 x 值，第二部分是 label 值。"
   ]
  },
  {
   "cell_type": "code",
   "execution_count": 18,
   "metadata": {},
   "outputs": [],
   "source": [
    "feed_order = ['img', 'label'] "
   ]
  },
  {
   "cell_type": "markdown",
   "metadata": {},
   "source": [
    "** 定义文件路径 **  \n",
    "\n",
    "在 fluid 中，默认模型的相关数据是需要保存在硬盘上的。也就是说在训练阶段会将训练好的模型保存在硬盘上，在将预测阶段可以直接 load 磁盘上的模型数据，进而做出预测。"
   ]
  },
  {
   "cell_type": "code",
   "execution_count": 19,
   "metadata": {},
   "outputs": [],
   "source": [
    "params_dirname = \"./DNN_model\""
   ]
  },
  {
   "cell_type": "markdown",
   "metadata": {},
   "source": [
    "** 定义事件处理函数 **  \n",
    "在 fluid 中，如果是用 trainer 的方式来训练的话，那么，在训练的时候允许开发者自己定义事件回调函数。目前接受的事件有 BeginEpochEvent、EndEpochEvent、BeginStepEvent、EndStepEvent。\n",
    " 用于输出训练过程中 cost 的变化。"
   ]
  },
  {
   "cell_type": "code",
   "execution_count": 20,
   "metadata": {},
   "outputs": [],
   "source": [
    "\n",
    "# Plot data\n",
    "from paddle.v2.plot import Ploter\n",
    "train_title = \"Train cost\"\n",
    "test_title = \"Test cost\"\n",
    "plot_cost = Ploter(train_title, test_title)\n",
    "\n",
    "train_str = []\n",
    "step = 0\n",
    "# 事件处理\n",
    "def event_handler_plot(event):\n",
    "    global step, train_str\n",
    "    if isinstance(event, EndStepEvent):\n",
    "        if event.step % 2 == 0: # 若干个batch,记录cost\n",
    "            if event.metrics[0] < 10:\n",
    "                plot_cost.append(train_title, step, event.metrics[0])\n",
    "                plot_cost.plot()\n",
    "        if event.step % 20 == 0: # 若干个batch,记录cost\n",
    "            avg_cost, acc = trainer.test(\n",
    "            reader=test_reader, feed_order=feed_order)\n",
    "            if avg_cost < 10:\n",
    "                plot_cost.append(test_title, step, avg_cost)\n",
    "                plot_cost.plot()\n",
    "\n",
    "#             if avg_cost < 0.5:\n",
    "#                 # 如果准确率达到阈值，则停止训练\n",
    "#                 print('loss is less than 10.0, stop')\n",
    "#                 trainer.stop()\n",
    "            train_str.append(\"Pass %d, Epoch %d,Train Cost %f, Train Acc %f, Test Cost %f, Test Acc %f,\"\\\n",
    "                           %(event.step, event.epoch,\n",
    "                           event.metrics[0],#train_program返回的第一个参数arg_cost\n",
    "                           event.metrics[1],#train_program返回的第二个参数acc\n",
    "                           avg_cost,\n",
    "                           acc))\n",
    "            \n",
    "                            \n",
    "            \n",
    "    step += 1\n",
    "    if isinstance(event, EndEpochEvent):\n",
    "        # 将参数存储，用于预测使用\n",
    "        if params_dirname is not None:\n",
    "            trainer.save_params(params_dirname)\n",
    "#         avg_cost, acc = trainer.test(reader=test_reader, feed_order=feed_order)\n",
    "#         print(\"Test with Epoch %d, avg_cost: %s, acc: %s\" % (event.epoch, avg_cost, acc))\n",
    "        \n",
    "        \n",
    "        "
   ]
  },
  {
   "cell_type": "markdown",
   "metadata": {},
   "source": [
    "** 定义执行器 **   \n",
    "为了能够运行开发者定义的网络拓扑结构和优化器，需要定义执行器。由执行器来真正的执行参数的初始化和网络的训练过程。"
   ]
  },
  {
   "cell_type": "code",
   "execution_count": 21,
   "metadata": {},
   "outputs": [
    {
     "data": {
      "text/plain": [
       "[]"
      ]
     },
     "execution_count": 21,
     "metadata": {},
     "output_type": "execute_result"
    }
   ],
   "source": [
    "# 创建执行器，palce在程序初始化时设定\n",
    "exe = fluid.Executor(place)\n",
    "# 初始化执行器\n",
    "exe.run(fluid.default_startup_program() )"
   ]
  },
  {
   "cell_type": "markdown",
   "metadata": {},
   "source": [
    "### （4）** 模型训练 **\n",
    "\n",
    "** 定义reader **   \n",
    "网络接受的数据实际上是一个又一个的 mini-batch 。 paddle 框架为开发者准备好了 paddle.batch 函数来提供一个又一个 mini-batch。在实际输入数据的时候，我们希望的是数据顺序不要影响网络是训练，paddle 框架也准备了 paddle.reader.shuffle 函数来打乱输入的顺序。 \n"
   ]
  },
  {
   "cell_type": "code",
   "execution_count": 22,
   "metadata": {},
   "outputs": [],
   "source": [
    "# 设置 BATCH_SIZE 的大小\n",
    "### 练习代码开始处 ### (1行代码) \n",
    "BATCH_SIZE = 128\n",
    "### 练习代码结束处 ###\n",
    "\n",
    "# 设置训练reader\n",
    "train_reader = paddle.batch(\n",
    "    paddle.reader.shuffle(\n",
    "        train_data_reader(), \n",
    "        buf_size=500),\n",
    "    batch_size=BATCH_SIZE)\n",
    "\n",
    "#设置测试 reader\n",
    "test_reader = paddle.batch(\n",
    "    paddle.reader.shuffle(\n",
    "        test_data_reader(), \n",
    "        buf_size=500),\n",
    "    batch_size=BATCH_SIZE)"
   ]
  },
  {
   "cell_type": "markdown",
   "metadata": {},
   "source": [
    "** 定义trainer **   \n",
    "trainer 负责收集训练需要的相关信息。定义 trainer 时需要提供 3个重要信息：\n",
    "1. 网络拓扑结构，通过参数 train_func 设定\n",
    "2. 真实训练的设备，通过参数 place 设定\n",
    "3. 优化方法，通过参数 optimizer_func 设定"
   ]
  },
  {
   "cell_type": "code",
   "execution_count": 23,
   "metadata": {},
   "outputs": [],
   "source": [
    "#创建训练器\n",
    "trainer = Trainer(\n",
    "    train_func= train_func,\n",
    "    place= place,\n",
    "    optimizer_func= optimizer_func)\n"
   ]
  },
  {
   "cell_type": "markdown",
   "metadata": {},
   "source": [
    "** 开始训练 **  \n",
    "在做好了所有的准备工作之后，就开始开始训练了。由于本例使用的是 trainer 的方法，所以可以直接调用 trainer 的 train 方法来执行训练。train 方法主要需要设置3个参数： reader、num_epochs 和 feeder_order。\n",
    "其中，  \n",
    ">reader 表示能够持续提供 mini-batch 的数据源  \n",
    ">num_epochs 表示所有的数据将要训练多少轮次（就是一个数字）  \n",
    ">feeder_order 表示数据的顺序。\n",
    "\n",
    "我们注意到，reader 和 feeder_order 在前面的准备过程中已经准备好了。 除了这三个参数外，train 还接受一个 event_handler 参数。这个参数允许开发者自己定义回调函数，用以在训练过程中打印训练相关的信息，甚至在合适的时候停止训练。  \n",
    "函数的形式如下：\n",
    "```\n",
    "trainer.train(\n",
    "    reader= ,\n",
    "    num_epochs= ,\n",
    "    event_handler= ,\n",
    "    feed_order= )\n",
    "```"
   ]
  },
  {
   "cell_type": "code",
   "execution_count": 24,
   "metadata": {},
   "outputs": [
    {
     "data": {
      "image/png": "[encoded data removed]",
      "text/plain": [
       "<Figure size 432x288 with 1 Axes>"
      ]
     },
     "metadata": {},
     "output_type": "display_data"
    },
    {
     "data": {
      "text/plain": [
       "<Figure size 432x288 with 0 Axes>"
      ]
     },
     "metadata": {},
     "output_type": "display_data"
    }
   ],
   "source": [
    "trainer.train(\n",
    "    reader=train_reader,\n",
    "    num_epochs=20,\n",
    "    event_handler=event_handler_plot,\n",
    "    feed_order=feed_order)\n"
   ]
  },
  {
   "cell_type": "code",
   "execution_count": 25,
   "metadata": {},
   "outputs": [
    {
     "name": "stdout",
     "output_type": "stream",
     "text": [
      "Pass 0, Epoch 0,Train Cost 2.855986, Train Acc 0.015625, Test Cost 4.945405, Test Acc 0.166667,\n",
      "Pass 20, Epoch 0,Train Cost 1.472613, Train Acc 0.359375, Test Cost 1.234794, Test Acc 0.558333,\n",
      "Pass 40, Epoch 0,Train Cost 1.307010, Train Acc 0.445312, Test Cost 1.385700, Test Acc 0.475000,\n",
      "Pass 0, Epoch 1,Train Cost 1.090381, Train Acc 0.609375, Test Cost 1.137957, Test Acc 0.558333,\n",
      "Pass 20, Epoch 1,Train Cost 1.021917, Train Acc 0.617188, Test Cost 1.118039, Test Acc 0.533333,\n",
      "Pass 40, Epoch 1,Train Cost 1.251956, Train Acc 0.531250, Test Cost 1.011804, Test Acc 0.591667,\n",
      "Pass 0, Epoch 2,Train Cost 0.953331, Train Acc 0.578125, Test Cost 0.906793, Test Acc 0.666667,\n",
      "Pass 20, Epoch 2,Train Cost 1.035225, Train Acc 0.648438, Test Cost 0.954773, Test Acc 0.666667,\n",
      "Pass 40, Epoch 2,Train Cost 1.064936, Train Acc 0.585938, Test Cost 1.042291, Test Acc 0.616667,\n",
      "Pass 0, Epoch 3,Train Cost 1.151706, Train Acc 0.546875, Test Cost 0.970653, Test Acc 0.658333,\n",
      "Pass 20, Epoch 3,Train Cost 1.096782, Train Acc 0.625000, Test Cost 0.990219, Test Acc 0.566667,\n",
      "Pass 40, Epoch 3,Train Cost 0.940400, Train Acc 0.656250, Test Cost 0.859841, Test Acc 0.675000,\n",
      "Pass 0, Epoch 4,Train Cost 0.817495, Train Acc 0.695312, Test Cost 0.884250, Test Acc 0.658333,\n",
      "Pass 20, Epoch 4,Train Cost 0.669466, Train Acc 0.773438, Test Cost 0.875119, Test Acc 0.650000,\n",
      "Pass 40, Epoch 4,Train Cost 0.792977, Train Acc 0.679688, Test Cost 0.861514, Test Acc 0.683333,\n",
      "Pass 0, Epoch 5,Train Cost 0.526532, Train Acc 0.812500, Test Cost 0.689407, Test Acc 0.766667,\n",
      "Pass 20, Epoch 5,Train Cost 0.740456, Train Acc 0.726562, Test Cost 0.838472, Test Acc 0.666667,\n",
      "Pass 40, Epoch 5,Train Cost 0.555158, Train Acc 0.828125, Test Cost 0.722113, Test Acc 0.741667,\n",
      "Pass 0, Epoch 6,Train Cost 0.529827, Train Acc 0.812500, Test Cost 0.964081, Test Acc 0.691667,\n",
      "Pass 20, Epoch 6,Train Cost 0.533445, Train Acc 0.804688, Test Cost 0.828510, Test Acc 0.733333,\n",
      "Pass 40, Epoch 6,Train Cost 0.560210, Train Acc 0.789062, Test Cost 0.865910, Test Acc 0.700000,\n",
      "Pass 0, Epoch 7,Train Cost 0.557829, Train Acc 0.773438, Test Cost 0.898079, Test Acc 0.700000,\n",
      "Pass 20, Epoch 7,Train Cost 0.452685, Train Acc 0.835938, Test Cost 0.861175, Test Acc 0.750000,\n",
      "Pass 40, Epoch 7,Train Cost 0.533337, Train Acc 0.820312, Test Cost 0.848189, Test Acc 0.700000,\n",
      "Pass 0, Epoch 8,Train Cost 0.733566, Train Acc 0.757812, Test Cost 0.892076, Test Acc 0.725000,\n",
      "Pass 20, Epoch 8,Train Cost 0.402030, Train Acc 0.859375, Test Cost 0.877627, Test Acc 0.716667,\n",
      "Pass 40, Epoch 8,Train Cost 0.450918, Train Acc 0.859375, Test Cost 0.988902, Test Acc 0.725000,\n",
      "Pass 0, Epoch 9,Train Cost 0.573176, Train Acc 0.796875, Test Cost 0.811271, Test Acc 0.741667,\n",
      "Pass 20, Epoch 9,Train Cost 0.387572, Train Acc 0.867188, Test Cost 0.977979, Test Acc 0.691667,\n",
      "Pass 40, Epoch 9,Train Cost 0.349739, Train Acc 0.867188, Test Cost 1.038065, Test Acc 0.708333,\n",
      "Pass 0, Epoch 10,Train Cost 0.542058, Train Acc 0.773438, Test Cost 0.978206, Test Acc 0.725000,\n",
      "Pass 20, Epoch 10,Train Cost 0.470723, Train Acc 0.843750, Test Cost 0.955705, Test Acc 0.700000,\n",
      "Pass 40, Epoch 10,Train Cost 0.276464, Train Acc 0.921875, Test Cost 0.857896, Test Acc 0.750000,\n",
      "Pass 0, Epoch 11,Train Cost 0.302907, Train Acc 0.890625, Test Cost 0.788625, Test Acc 0.816667,\n",
      "Pass 20, Epoch 11,Train Cost 0.334883, Train Acc 0.867188, Test Cost 0.901921, Test Acc 0.691667,\n",
      "Pass 40, Epoch 11,Train Cost 0.281886, Train Acc 0.921875, Test Cost 0.912628, Test Acc 0.750000,\n",
      "Pass 0, Epoch 12,Train Cost 0.240684, Train Acc 0.929688, Test Cost 0.884447, Test Acc 0.800000,\n",
      "Pass 20, Epoch 12,Train Cost 0.505848, Train Acc 0.828125, Test Cost 0.971806, Test Acc 0.700000,\n",
      "Pass 40, Epoch 12,Train Cost 0.315358, Train Acc 0.890625, Test Cost 1.084675, Test Acc 0.708333,\n",
      "Pass 0, Epoch 13,Train Cost 0.291240, Train Acc 0.890625, Test Cost 0.863432, Test Acc 0.783333,\n",
      "Pass 20, Epoch 13,Train Cost 0.412438, Train Acc 0.875000, Test Cost 1.305724, Test Acc 0.658333,\n",
      "Pass 40, Epoch 13,Train Cost 0.229385, Train Acc 0.921875, Test Cost 0.973899, Test Acc 0.741667,\n",
      "Pass 0, Epoch 14,Train Cost 0.229931, Train Acc 0.914062, Test Cost 1.165970, Test Acc 0.758333,\n",
      "Pass 20, Epoch 14,Train Cost 0.278652, Train Acc 0.929688, Test Cost 1.130681, Test Acc 0.700000,\n",
      "Pass 40, Epoch 14,Train Cost 0.160668, Train Acc 0.937500, Test Cost 1.087767, Test Acc 0.700000,\n",
      "Pass 0, Epoch 15,Train Cost 0.566487, Train Acc 0.851562, Test Cost 1.112171, Test Acc 0.708333,\n",
      "Pass 20, Epoch 15,Train Cost 0.246314, Train Acc 0.906250, Test Cost 1.281741, Test Acc 0.666667,\n",
      "Pass 40, Epoch 15,Train Cost 0.196213, Train Acc 0.906250, Test Cost 1.012073, Test Acc 0.741667,\n",
      "Pass 0, Epoch 16,Train Cost 0.527888, Train Acc 0.796875, Test Cost 0.804606, Test Acc 0.775000,\n",
      "Pass 20, Epoch 16,Train Cost 0.260103, Train Acc 0.906250, Test Cost 1.258160, Test Acc 0.691667,\n",
      "Pass 40, Epoch 16,Train Cost 0.339489, Train Acc 0.867188, Test Cost 1.100098, Test Acc 0.750000,\n",
      "Pass 0, Epoch 17,Train Cost 0.177954, Train Acc 0.906250, Test Cost 1.249966, Test Acc 0.716667,\n",
      "Pass 20, Epoch 17,Train Cost 0.209357, Train Acc 0.945312, Test Cost 1.135276, Test Acc 0.766667,\n",
      "Pass 40, Epoch 17,Train Cost 0.258902, Train Acc 0.898438, Test Cost 1.138059, Test Acc 0.741667,\n",
      "Pass 0, Epoch 18,Train Cost 0.164286, Train Acc 0.945312, Test Cost 1.026340, Test Acc 0.758333,\n",
      "Pass 20, Epoch 18,Train Cost 0.142819, Train Acc 0.968750, Test Cost 1.283720, Test Acc 0.758333,\n",
      "Pass 40, Epoch 18,Train Cost 0.130769, Train Acc 0.960938, Test Cost 1.046736, Test Acc 0.766667,\n",
      "Pass 0, Epoch 19,Train Cost 0.214810, Train Acc 0.929688, Test Cost 1.045538, Test Acc 0.741667,\n",
      "Pass 20, Epoch 19,Train Cost 0.257700, Train Acc 0.898438, Test Cost 1.352212, Test Acc 0.766667,\n",
      "Pass 40, Epoch 19,Train Cost 0.136930, Train Acc 0.937500, Test Cost 1.136788, Test Acc 0.800000,\n"
     ]
    }
   ],
   "source": [
    "for train_s in train_str:\n",
    "    print(train_s)"
   ]
  },
  {
   "cell_type": "code",
   "execution_count": 32,
   "metadata": {
    "scrolled": true
   },
   "outputs": [
    {
     "name": "stdout",
     "output_type": "stream",
     "text": [
      "/paddle_train/GestureRecognition\n",
      "total_acc: 78.33%\n"
     ]
    }
   ],
   "source": [
    "\n",
    "# 读取并预处理要预测的图片\n",
    "cur_dir = os.getcwd()\n",
    "print(cur_dir)\n",
    "# img = load_image(cur_dir + '/gesture/test/4/21.jpg')\n",
    "# 设置训练场所\n",
    "use_cuda = False\n",
    "# use_cuda = True\n",
    "place = fluid.CUDAPlace(1) if use_cuda else fluid.CPUPlace()\n",
    "\n",
    "inferencer = Inferencer(\n",
    "#     infer_func=softmax_regression, # uncomment for softmax regression\n",
    "#     infer_func=multilayer_perceptron, # uncomment for MLP\n",
    "    infer_func=convolutional_neural_network,  # uncomment for LeNet5\n",
    "    param_path=params_dirname,\n",
    "    place=place )\n",
    "y_test = []\n",
    "y_pred = []\n",
    "test_reader = test_data_reader()\n",
    "total_count = 0\n",
    "total_acc = 0.0\n",
    "for img, label in test_reader():\n",
    "    y_test.append(label)\n",
    "    results = inferencer.infer({'img': img})\n",
    "    lab = np.argsort(results)\n",
    "    y_pred.append(lab[0][0][-1])\n",
    "    total_count += 1\n",
    "    if label == lab[0][0][-1]:\n",
    "        total_acc += 1\n",
    "print(\"total_acc: %.2f%%\" % (total_acc / total_count * 100) )\n",
    "# print(lab)\n",
    "# print(\"Label of image/infer_3.png is: %d\" % lab[0][0][-1])\n",
    "# print(np.mean(y_test==y_pred))\n"
   ]
  },
  {
   "cell_type": "code",
   "execution_count": null,
   "metadata": {},
   "outputs": [],
   "source": []
  }
 ],
 "metadata": {
  "kernelspec": {
   "display_name": "Python 2",
   "language": "python",
   "name": "python2"
  },
  "language_info": {
   "codemirror_mode": {
    "name": "ipython",
    "version": 2
   },
   "file_extension": ".py",
   "mimetype": "text/x-python",
   "name": "python",
   "nbconvert_exporter": "python",
   "pygments_lexer": "ipython2",
   "version": "2.7.12"
  }
 },
 "nbformat": 4,
 "nbformat_minor": 1
}
